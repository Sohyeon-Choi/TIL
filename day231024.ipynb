{
  "nbformat": 4,
  "nbformat_minor": 0,
  "metadata": {
    "colab": {
      "provenance": []
    },
    "kernelspec": {
      "name": "python3",
      "display_name": "Python 3"
    },
    "language_info": {
      "name": "python"
    }
  },
  "cells": [
    {
      "cell_type": "markdown",
      "source": [
        "## Google Drive 연동"
      ],
      "metadata": {
        "id": "0Fkp18_H6Zxs"
      }
    },
    {
      "cell_type": "code",
      "execution_count": 36,
      "metadata": {
        "colab": {
          "base_uri": "https://localhost:8080/"
        },
        "id": "6NfrqMtO6VfY",
        "outputId": "78ca2552-b152-4d7c-d6ee-a23ef1da56f3"
      },
      "outputs": [
        {
          "output_type": "stream",
          "name": "stdout",
          "text": [
            "Drive already mounted at /content/drive; to attempt to forcibly remount, call drive.mount(\"/content/drive\", force_remount=True).\n"
          ]
        }
      ],
      "source": [
        "from google.colab import drive\n",
        "drive.mount('/content/drive')"
      ]
    },
    {
      "cell_type": "markdown",
      "source": [
        "## JAVA 설치\n",
        "- JVM 실행 위해서는 JAVA 설치 필수"
      ],
      "metadata": {
        "id": "TWc13EXL7MkZ"
      }
    },
    {
      "cell_type": "code",
      "source": [
        "!apt-get install openjdk-8-jdk-headless -qq > /dev/null"
      ],
      "metadata": {
        "id": "t1w-tjRK7VQA"
      },
      "execution_count": 2,
      "outputs": []
    },
    {
      "cell_type": "markdown",
      "source": [
        "## Spark 설치\n",
        "- 기존 : Web Link를 통해서 다운로드 받은 후, 압축파일 풀기\n",
        "- 오늘 : 구글 드라이브에서 파일을 가져오기"
      ],
      "metadata": {
        "id": "38SQ_PiA7dQk"
      }
    },
    {
      "cell_type": "code",
      "source": [
        "%cd /content/drive/MyDrive/Colab Notebooks/2023/멀티캠퍼스/spark"
      ],
      "metadata": {
        "colab": {
          "base_uri": "https://localhost:8080/"
        },
        "id": "vBkVQ8MN72ls",
        "outputId": "478e3c09-294f-4ec1-84b8-f444cb8a37a0"
      },
      "execution_count": 3,
      "outputs": [
        {
          "output_type": "stream",
          "name": "stdout",
          "text": [
            "/content/drive/MyDrive/Colab Notebooks/2023/멀티캠퍼스/spark\n"
          ]
        }
      ]
    },
    {
      "cell_type": "code",
      "source": [
        "!pwd"
      ],
      "metadata": {
        "colab": {
          "base_uri": "https://localhost:8080/"
        },
        "id": "nIItvnWl7-_A",
        "outputId": "d203b5b7-923b-46f3-8745-f960c0432481"
      },
      "execution_count": 4,
      "outputs": [
        {
          "output_type": "stream",
          "name": "stdout",
          "text": [
            "/content/drive/MyDrive/Colab Notebooks/2023/멀티캠퍼스/spark\n"
          ]
        }
      ]
    },
    {
      "cell_type": "code",
      "source": [
        "!ls"
      ],
      "metadata": {
        "colab": {
          "base_uri": "https://localhost:8080/"
        },
        "id": "g9BWWsKT8Byj",
        "outputId": "ef2136d4-9762-44a3-a473-eaeae5a0293a"
      },
      "execution_count": 5,
      "outputs": [
        {
          "output_type": "stream",
          "name": "stdout",
          "text": [
            " ch02   chapter02\t  ml\t\t\t\t  '스파크 구글코랩 템플릿.ipynb'\n",
            " ch03   chapter03\t  spark-3.1.1-bin-hadoop2.7.tgz\n",
            " ch04   day231023.ipynb  'Spark Tutorial Template.ipynb'\n"
          ]
        }
      ]
    },
    {
      "cell_type": "code",
      "source": [
        "!cp -r spark-3.1.1-bin-hadoop2.7.tgz /content"
      ],
      "metadata": {
        "id": "7YKJJSeg8S26"
      },
      "execution_count": 6,
      "outputs": []
    },
    {
      "cell_type": "code",
      "source": [
        "%cd /content/"
      ],
      "metadata": {
        "colab": {
          "base_uri": "https://localhost:8080/"
        },
        "id": "5wIfNZdF8m2D",
        "outputId": "ee15fee4-635a-4a3c-be3d-2fbe7d4c52b8"
      },
      "execution_count": 7,
      "outputs": [
        {
          "output_type": "stream",
          "name": "stdout",
          "text": [
            "/content\n"
          ]
        }
      ]
    },
    {
      "cell_type": "code",
      "source": [
        "!pwd"
      ],
      "metadata": {
        "colab": {
          "base_uri": "https://localhost:8080/"
        },
        "id": "X1vfvhn-8pLM",
        "outputId": "99407f16-bb8f-43b5-cc52-ec05624c209c"
      },
      "execution_count": 8,
      "outputs": [
        {
          "output_type": "stream",
          "name": "stdout",
          "text": [
            "/content\n"
          ]
        }
      ]
    },
    {
      "cell_type": "code",
      "source": [
        "!ls"
      ],
      "metadata": {
        "colab": {
          "base_uri": "https://localhost:8080/"
        },
        "id": "drs7uAAm86QC",
        "outputId": "fd19b020-c005-47e8-b46a-f5f6a382fed5"
      },
      "execution_count": 9,
      "outputs": [
        {
          "output_type": "stream",
          "name": "stdout",
          "text": [
            "drive  sample_data  spark-3.1.1-bin-hadoop2.7.tgz\n"
          ]
        }
      ]
    },
    {
      "cell_type": "code",
      "source": [
        "!tar xf spark-3.1.1-bin-hadoop2.7.tgz > /dev/null"
      ],
      "metadata": {
        "id": "R1z9gS3y9BMu"
      },
      "execution_count": 10,
      "outputs": []
    },
    {
      "cell_type": "markdown",
      "source": [
        "## 환경변수 설정\n",
        "- 일반적으로 vi 편집기를 활용해서 작업\n",
        "- 구글코랩 : os 라이브러리 사용해서 환경변수 지정"
      ],
      "metadata": {
        "id": "Kf53Hjn69KV6"
      }
    },
    {
      "cell_type": "code",
      "source": [
        "import os\n",
        "os.environ[\"JAVA_HOME\"] = \"/usr/lib/jvm/java-8-openjdk-amd64\"\n",
        "os.environ[\"SPARK_HOME\"] = \"/content/spark-3.1.1-bin-hadoop2.7\""
      ],
      "metadata": {
        "id": "3O1EmzFV9Smm"
      },
      "execution_count": 11,
      "outputs": []
    },
    {
      "cell_type": "markdown",
      "source": [
        "## PySpark 설치\n",
        "- 무조건 설치 파일에 맞춰서 설치를 해준다!!"
      ],
      "metadata": {
        "id": "OUcqhw4d9lCc"
      }
    },
    {
      "cell_type": "code",
      "source": [
        "!pip install -q pyspark==3.1.1"
      ],
      "metadata": {
        "id": "93KAagdX9oXY",
        "colab": {
          "base_uri": "https://localhost:8080/"
        },
        "outputId": "41cc72dc-205b-410c-ca29-45d50513da34"
      },
      "execution_count": 12,
      "outputs": [
        {
          "output_type": "stream",
          "name": "stdout",
          "text": [
            "\u001b[2K     \u001b[90m━━━━━━━━━━━━━━━━━━━━━━━━━━━━━━━━━━━━━━━━\u001b[0m \u001b[32m212.3/212.3 MB\u001b[0m \u001b[31m5.0 MB/s\u001b[0m eta \u001b[36m0:00:00\u001b[0m\n",
            "\u001b[?25h  Preparing metadata (setup.py) ... \u001b[?25l\u001b[?25hdone\n",
            "\u001b[2K     \u001b[90m━━━━━━━━━━━━━━━━━━━━━━━━━━━━━━━━━━━━━━━━\u001b[0m \u001b[32m198.6/198.6 kB\u001b[0m \u001b[31m16.3 MB/s\u001b[0m eta \u001b[36m0:00:00\u001b[0m\n",
            "\u001b[?25h  Building wheel for pyspark (setup.py) ... \u001b[?25l\u001b[?25hdone\n"
          ]
        }
      ]
    },
    {
      "cell_type": "markdown",
      "source": [
        "## Ngrok 설정 (Google Colab에서만 진행)\n",
        "- 회원가입해서 Token을 받는다.\n",
        "- 싸이트 : https://ngrok.com/\n"
      ],
      "metadata": {
        "id": "6mz--p65-_91"
      }
    },
    {
      "cell_type": "code",
      "source": [
        "!wget https://bin.equinox.io/c/4VmDzA7iaHb/ngrok-stable-linux-amd64.zip &> /dev/null\n",
        "!unzip ngrok-stable-linux-amd64.zip &> /dev/null"
      ],
      "metadata": {
        "id": "3GgRgOep_Ng1"
      },
      "execution_count": 13,
      "outputs": []
    },
    {
      "cell_type": "code",
      "source": [
        "!pip install pyngrok"
      ],
      "metadata": {
        "colab": {
          "base_uri": "https://localhost:8080/"
        },
        "id": "ed7IonzG_REX",
        "outputId": "8e2c2d27-c8c1-4ab2-8cd0-25e5314611e7"
      },
      "execution_count": 14,
      "outputs": [
        {
          "output_type": "stream",
          "name": "stdout",
          "text": [
            "Collecting pyngrok\n",
            "  Downloading pyngrok-7.0.0.tar.gz (718 kB)\n",
            "\u001b[2K     \u001b[90m━━━━━━━━━━━━━━━━━━━━━━━━━━━━━━━━━━━━━━━━\u001b[0m \u001b[32m718.7/718.7 kB\u001b[0m \u001b[31m8.1 MB/s\u001b[0m eta \u001b[36m0:00:00\u001b[0m\n",
            "\u001b[?25h  Preparing metadata (setup.py) ... \u001b[?25l\u001b[?25hdone\n",
            "Requirement already satisfied: PyYAML in /usr/local/lib/python3.10/dist-packages (from pyngrok) (6.0.1)\n",
            "Building wheels for collected packages: pyngrok\n",
            "  Building wheel for pyngrok (setup.py) ... \u001b[?25l\u001b[?25hdone\n",
            "  Created wheel for pyngrok: filename=pyngrok-7.0.0-py3-none-any.whl size=21129 sha256=500cf15a3fbdda37dc905049ec5839406e24e94edcb176546b286a47f221c0f3\n",
            "  Stored in directory: /root/.cache/pip/wheels/60/29/7b/f64332aa7e5e88fbd56d4002185ae22dcdc83b35b3d1c2cbf5\n",
            "Successfully built pyngrok\n",
            "Installing collected packages: pyngrok\n",
            "Successfully installed pyngrok-7.0.0\n"
          ]
        }
      ]
    },
    {
      "cell_type": "code",
      "source": [
        "!./ngrok authtoken 7551hxosxCMUhFXL2A18g_7WXBHeNkUZ1Sg9eSgM7Kd"
      ],
      "metadata": {
        "colab": {
          "base_uri": "https://localhost:8080/"
        },
        "id": "4zhh-u81_WPY",
        "outputId": "ef2e4142-ea85-4eca-8e03-0f1c038106e4"
      },
      "execution_count": 15,
      "outputs": [
        {
          "output_type": "stream",
          "name": "stdout",
          "text": [
            "Authtoken saved to configuration file: /root/.ngrok2/ngrok.yml\n"
          ]
        }
      ]
    },
    {
      "cell_type": "markdown",
      "source": [
        "## 테스트"
      ],
      "metadata": {
        "id": "9IWaHmen97UQ"
      }
    },
    {
      "cell_type": "code",
      "source": [
        "from pyspark.sql import SparkSession\n",
        "spark = SparkSession.builder.appName('mulCamp28').config('spark.ui.port', '4050').getOrCreate()\n",
        "spark"
      ],
      "metadata": {
        "colab": {
          "base_uri": "https://localhost:8080/",
          "height": 222
        },
        "id": "U6xh0DzS-EY9",
        "outputId": "48711040-096e-40e4-af9b-6089e35a3f53"
      },
      "execution_count": 37,
      "outputs": [
        {
          "output_type": "execute_result",
          "data": {
            "text/plain": [
              "<pyspark.sql.session.SparkSession at 0x7e21a4101db0>"
            ],
            "text/html": [
              "\n",
              "            <div>\n",
              "                <p><b>SparkSession - in-memory</b></p>\n",
              "                \n",
              "        <div>\n",
              "            <p><b>SparkContext</b></p>\n",
              "\n",
              "            <p><a href=\"http://53497d1b3430:4050\">Spark UI</a></p>\n",
              "\n",
              "            <dl>\n",
              "              <dt>Version</dt>\n",
              "                <dd><code>v3.1.1</code></dd>\n",
              "              <dt>Master</dt>\n",
              "                <dd><code>local[*]</code></dd>\n",
              "              <dt>AppName</dt>\n",
              "                <dd><code>mulCamp28</code></dd>\n",
              "            </dl>\n",
              "        </div>\n",
              "        \n",
              "            </div>\n",
              "        "
            ]
          },
          "metadata": {},
          "execution_count": 37
        }
      ]
    },
    {
      "cell_type": "code",
      "source": [
        "strings = spark.read.text(\"/content/spark-3.1.1-bin-hadoop2.7/README.md\")\n",
        "print(strings)\n",
        "print(type(strings))"
      ],
      "metadata": {
        "colab": {
          "base_uri": "https://localhost:8080/"
        },
        "id": "FJwQfVkUIK9t",
        "outputId": "90c93065-aef6-4c1e-b25f-3cd529a5100d"
      },
      "execution_count": 38,
      "outputs": [
        {
          "output_type": "stream",
          "name": "stdout",
          "text": [
            "DataFrame[value: string]\n",
            "<class 'pyspark.sql.dataframe.DataFrame'>\n"
          ]
        }
      ]
    },
    {
      "cell_type": "code",
      "source": [
        "filtered = strings.filter(strings.value.contains(\"Spark\"))\n",
        "print(filtered)\n",
        "print(type(filtered))"
      ],
      "metadata": {
        "colab": {
          "base_uri": "https://localhost:8080/"
        },
        "id": "bsAul9O8IuGe",
        "outputId": "bbb86f14-6630-4566-dd00-a6ef81815bdb"
      },
      "execution_count": 39,
      "outputs": [
        {
          "output_type": "stream",
          "name": "stdout",
          "text": [
            "DataFrame[value: string]\n",
            "<class 'pyspark.sql.dataframe.DataFrame'>\n"
          ]
        }
      ]
    },
    {
      "cell_type": "code",
      "source": [
        "!ls"
      ],
      "metadata": {
        "colab": {
          "base_uri": "https://localhost:8080/"
        },
        "id": "VztN9XNOJCAy",
        "outputId": "cc0b89b5-0476-40c4-ad91-4f9cf8b0258f"
      },
      "execution_count": null,
      "outputs": [
        {
          "output_type": "stream",
          "name": "stdout",
          "text": [
            "drive  ngrok-stable-linux-amd64.zip    sample_data\t\t  spark-3.1.1-bin-hadoop2.7.tgz\n",
            "ngrok  ngrok-stable-linux-amd64.zip.1  spark-3.1.1-bin-hadoop2.7\n"
          ]
        }
      ]
    },
    {
      "cell_type": "code",
      "source": [
        "!cat spark-3.1.1-bin-hadoop2.7/README.md"
      ],
      "metadata": {
        "id": "_L_LCxpVJE2r",
        "colab": {
          "base_uri": "https://localhost:8080/"
        },
        "outputId": "f90ae4e1-afbb-4c8c-fb61-18973259e1b0"
      },
      "execution_count": 19,
      "outputs": [
        {
          "output_type": "stream",
          "name": "stdout",
          "text": [
            "# Apache Spark\n",
            "\n",
            "Spark is a unified analytics engine for large-scale data processing. It provides\n",
            "high-level APIs in Scala, Java, Python, and R, and an optimized engine that\n",
            "supports general computation graphs for data analysis. It also supports a\n",
            "rich set of higher-level tools including Spark SQL for SQL and DataFrames,\n",
            "MLlib for machine learning, GraphX for graph processing,\n",
            "and Structured Streaming for stream processing.\n",
            "\n",
            "<https://spark.apache.org/>\n",
            "\n",
            "[![Jenkins Build](https://amplab.cs.berkeley.edu/jenkins/job/spark-master-test-sbt-hadoop-2.7-hive-2.3/badge/icon)](https://amplab.cs.berkeley.edu/jenkins/job/spark-master-test-sbt-hadoop-2.7-hive-2.3)\n",
            "[![AppVeyor Build](https://img.shields.io/appveyor/ci/ApacheSoftwareFoundation/spark/master.svg?style=plastic&logo=appveyor)](https://ci.appveyor.com/project/ApacheSoftwareFoundation/spark)\n",
            "[![PySpark Coverage](https://img.shields.io/badge/dynamic/xml.svg?label=pyspark%20coverage&url=https%3A%2F%2Fspark-test.github.io%2Fpyspark-coverage-site&query=%2Fhtml%2Fbody%2Fdiv%5B1%5D%2Fdiv%2Fh1%2Fspan&colorB=brightgreen&style=plastic)](https://spark-test.github.io/pyspark-coverage-site)\n",
            "\n",
            "\n",
            "## Online Documentation\n",
            "\n",
            "You can find the latest Spark documentation, including a programming\n",
            "guide, on the [project web page](https://spark.apache.org/documentation.html).\n",
            "This README file only contains basic setup instructions.\n",
            "\n",
            "## Building Spark\n",
            "\n",
            "Spark is built using [Apache Maven](https://maven.apache.org/).\n",
            "To build Spark and its example programs, run:\n",
            "\n",
            "    ./build/mvn -DskipTests clean package\n",
            "\n",
            "(You do not need to do this if you downloaded a pre-built package.)\n",
            "\n",
            "More detailed documentation is available from the project site, at\n",
            "[\"Building Spark\"](https://spark.apache.org/docs/latest/building-spark.html).\n",
            "\n",
            "For general development tips, including info on developing Spark using an IDE, see [\"Useful Developer Tools\"](https://spark.apache.org/developer-tools.html).\n",
            "\n",
            "## Interactive Scala Shell\n",
            "\n",
            "The easiest way to start using Spark is through the Scala shell:\n",
            "\n",
            "    ./bin/spark-shell\n",
            "\n",
            "Try the following command, which should return 1,000,000,000:\n",
            "\n",
            "    scala> spark.range(1000 * 1000 * 1000).count()\n",
            "\n",
            "## Interactive Python Shell\n",
            "\n",
            "Alternatively, if you prefer Python, you can use the Python shell:\n",
            "\n",
            "    ./bin/pyspark\n",
            "\n",
            "And run the following command, which should also return 1,000,000,000:\n",
            "\n",
            "    >>> spark.range(1000 * 1000 * 1000).count()\n",
            "\n",
            "## Example Programs\n",
            "\n",
            "Spark also comes with several sample programs in the `examples` directory.\n",
            "To run one of them, use `./bin/run-example <class> [params]`. For example:\n",
            "\n",
            "    ./bin/run-example SparkPi\n",
            "\n",
            "will run the Pi example locally.\n",
            "\n",
            "You can set the MASTER environment variable when running examples to submit\n",
            "examples to a cluster. This can be a mesos:// or spark:// URL,\n",
            "\"yarn\" to run on YARN, and \"local\" to run\n",
            "locally with one thread, or \"local[N]\" to run locally with N threads. You\n",
            "can also use an abbreviated class name if the class is in the `examples`\n",
            "package. For instance:\n",
            "\n",
            "    MASTER=spark://host:7077 ./bin/run-example SparkPi\n",
            "\n",
            "Many of the example programs print usage help if no params are given.\n",
            "\n",
            "## Running Tests\n",
            "\n",
            "Testing first requires [building Spark](#building-spark). Once Spark is built, tests\n",
            "can be run using:\n",
            "\n",
            "    ./dev/run-tests\n",
            "\n",
            "Please see the guidance on how to\n",
            "[run tests for a module, or individual tests](https://spark.apache.org/developer-tools.html#individual-tests).\n",
            "\n",
            "There is also a Kubernetes integration test, see resource-managers/kubernetes/integration-tests/README.md\n",
            "\n",
            "## A Note About Hadoop Versions\n",
            "\n",
            "Spark uses the Hadoop core library to talk to HDFS and other Hadoop-supported\n",
            "storage systems. Because the protocols have changed in different versions of\n",
            "Hadoop, you must build Spark against the same version that your cluster runs.\n",
            "\n",
            "Please refer to the build documentation at\n",
            "[\"Specifying the Hadoop Version and Enabling YARN\"](https://spark.apache.org/docs/latest/building-spark.html#specifying-the-hadoop-version-and-enabling-yarn)\n",
            "for detailed guidance on building for a particular distribution of Hadoop, including\n",
            "building for particular Hive and Hive Thriftserver distributions.\n",
            "\n",
            "## Configuration\n",
            "\n",
            "Please refer to the [Configuration Guide](https://spark.apache.org/docs/latest/configuration.html)\n",
            "in the online documentation for an overview on how to configure Spark.\n",
            "\n",
            "## Contributing\n",
            "\n",
            "Please review the [Contribution to Spark guide](https://spark.apache.org/contributing.html)\n",
            "for information on how to get started contributing to the project.\n"
          ]
        }
      ]
    },
    {
      "cell_type": "code",
      "source": [
        "filtered.count()"
      ],
      "metadata": {
        "colab": {
          "base_uri": "https://localhost:8080/"
        },
        "id": "uGgavVDUI2M_",
        "outputId": "54b4360d-7372-469a-e797-84453e4e1d88"
      },
      "execution_count": 21,
      "outputs": [
        {
          "output_type": "execute_result",
          "data": {
            "text/plain": [
              "19"
            ]
          },
          "metadata": {},
          "execution_count": 21
        }
      ]
    },
    {
      "cell_type": "markdown",
      "source": [
        "## CSV 파일 불러오기\n",
        "- CSV 포맷으로 파일 읽어서 데이터프레임에 저장함\n",
        "- 스키마 추론, 쉼표로 구분된 컬럼 이름이 제공되는 헤더가 있음 지정"
      ],
      "metadata": {
        "id": "nS7z5DVnM85W"
      }
    },
    {
      "cell_type": "markdown",
      "source": [
        "### 교재"
      ],
      "metadata": {
        "id": "lXDqEaaUWx26"
      }
    },
    {
      "cell_type": "code",
      "source": [
        "if len(sys.argv)\n",
        "# 터미널에서 mnmcount.py data/mnm_dataset.csv / GCP 클라우드에서, 간단한 테스트"
      ],
      "metadata": {
        "id": "8mPF_FEvWy2O"
      },
      "execution_count": null,
      "outputs": []
    },
    {
      "cell_type": "code",
      "source": [],
      "metadata": {
        "id": "rtv3ME5bW8xz"
      },
      "execution_count": null,
      "outputs": []
    },
    {
      "cell_type": "code",
      "source": [
        "mnm_file = '/content/drive/MyDrive/Colab Notebooks/2023/멀티캠퍼스/spark/chapter02/data/mnm_dataset.csv'\n",
        "\n",
        "mnm_df = spark.read.format('csv').option(\"header\", \"true\").option(\"inferSchema\", \"true\").load(mnm_file)\n",
        "mnm_df.show(n=10, truncate=False) # show, pandas head()"
      ],
      "metadata": {
        "colab": {
          "base_uri": "https://localhost:8080/"
        },
        "id": "_WBzACk7M_zy",
        "outputId": "d47c891e-e080-4183-9164-ee12996f4d27"
      },
      "execution_count": null,
      "outputs": [
        {
          "output_type": "stream",
          "name": "stdout",
          "text": [
            "+-----+------+-----+\n",
            "|State|Color |Count|\n",
            "+-----+------+-----+\n",
            "|TX   |Red   |20   |\n",
            "|NV   |Blue  |66   |\n",
            "|CO   |Blue  |79   |\n",
            "|OR   |Blue  |71   |\n",
            "|WA   |Yellow|93   |\n",
            "|WY   |Blue  |16   |\n",
            "|CA   |Yellow|53   |\n",
            "|WA   |Green |60   |\n",
            "|OR   |Green |71   |\n",
            "|TX   |Green |68   |\n",
            "+-----+------+-----+\n",
            "only showing top 10 rows\n",
            "\n"
          ]
        }
      ]
    },
    {
      "cell_type": "markdown",
      "source": [
        "- GROUP BY State별, Color별 갯수를 요약해보자"
      ],
      "metadata": {
        "id": "WLponLDgPTsi"
      }
    },
    {
      "cell_type": "code",
      "source": [
        "count_mnm_df = mnm_df.select(\"State\", \"Color\", \"Count\").groupBy(\"State\", \"Color\").sum(\"Count\").orderBy(\"sum(Count)\", ascending=False)\n",
        "count_mnm_df.show(n = 2, truncate=False)"
      ],
      "metadata": {
        "colab": {
          "base_uri": "https://localhost:8080/"
        },
        "id": "0sIVDrKhPcQ0",
        "outputId": "8bf8bec8-7cb1-4f0e-dea5-0cf5a9103bf1"
      },
      "execution_count": null,
      "outputs": [
        {
          "output_type": "stream",
          "name": "stdout",
          "text": [
            "+-----+------+----------+\n",
            "|State|Color |sum(Count)|\n",
            "+-----+------+----------+\n",
            "|CA   |Yellow|100956    |\n",
            "|WA   |Green |96486     |\n",
            "+-----+------+----------+\n",
            "only showing top 2 rows\n",
            "\n"
          ]
        }
      ]
    },
    {
      "cell_type": "code",
      "source": [
        "count_mnm_df.count() # 행의 갯수"
      ],
      "metadata": {
        "colab": {
          "base_uri": "https://localhost:8080/"
        },
        "id": "1mBzgKhvP5j8",
        "outputId": "3f17232d-8a3b-488a-df08-263f2923581d"
      },
      "execution_count": null,
      "outputs": [
        {
          "output_type": "execute_result",
          "data": {
            "text/plain": [
              "60"
            ]
          },
          "metadata": {},
          "execution_count": 69
        }
      ]
    },
    {
      "cell_type": "markdown",
      "source": [
        "- CA만 확인하자"
      ],
      "metadata": {
        "id": "oLPf9j-fRUQl"
      }
    },
    {
      "cell_type": "code",
      "source": [
        "ca_count_mnm_df = mnm_df.select('*')\\\n",
        "  .where(mnm_df.State == 'CA')\\\n",
        "  .groupBy(\"State\", \"Color\")\\\n",
        "  .sum(\"Count\")\\\n",
        "  .orderBy(\"sum(Count)\", ascending=False)\n",
        "\n",
        "ca_count_mnm_df.show()"
      ],
      "metadata": {
        "colab": {
          "base_uri": "https://localhost:8080/"
        },
        "id": "0MkvE1YZRZDK",
        "outputId": "148c348c-eb00-46c5-c803-69a66d4847d2"
      },
      "execution_count": null,
      "outputs": [
        {
          "output_type": "stream",
          "name": "stdout",
          "text": [
            "+-----+------+----------+\n",
            "|State| Color|sum(Count)|\n",
            "+-----+------+----------+\n",
            "|   CA|Yellow|    100956|\n",
            "|   CA| Brown|     95762|\n",
            "|   CA| Green|     93505|\n",
            "|   CA|   Red|     91527|\n",
            "|   CA|Orange|     90311|\n",
            "|   CA|  Blue|     89123|\n",
            "+-----+------+----------+\n",
            "\n"
          ]
        }
      ]
    },
    {
      "cell_type": "code",
      "source": [
        "ca_count_mnm_df.count()"
      ],
      "metadata": {
        "colab": {
          "base_uri": "https://localhost:8080/"
        },
        "id": "gKeeFt0PSAGJ",
        "outputId": "27b80ed2-e7aa-40ad-daa9-3eff58ec0513"
      },
      "execution_count": null,
      "outputs": [
        {
          "output_type": "execute_result",
          "data": {
            "text/plain": [
              "6"
            ]
          },
          "metadata": {},
          "execution_count": 73
        }
      ]
    },
    {
      "cell_type": "markdown",
      "source": [],
      "metadata": {
        "id": "Td7AxFf9Naxb"
      }
    },
    {
      "cell_type": "code",
      "source": [
        "get_ipython().system_raw('./ngrok http 4050 &')\n",
        "!curl -s http://localhost:4040/api/tunnels"
      ],
      "metadata": {
        "id": "gBRVCsrk_roC"
      },
      "execution_count": 23,
      "outputs": []
    },
    {
      "cell_type": "code",
      "source": [
        "!curl -s http://localhost:4040/api/tunnels | python3 -c \\\n",
        "    \"import sys, json; print(json.load(sys.stdin)['tunnels'][0]['public_url'])\""
      ],
      "metadata": {
        "colab": {
          "base_uri": "https://localhost:8080/"
        },
        "id": "gZX_6WcsETzN",
        "outputId": "f73710e5-b8b4-479e-f247-765fb9c3ffb3"
      },
      "execution_count": 24,
      "outputs": [
        {
          "output_type": "stream",
          "name": "stdout",
          "text": [
            "https://5bf8-34-23-132-16.ngrok-free.app\n"
          ]
        }
      ]
    },
    {
      "cell_type": "markdown",
      "source": [
        "## RDD 방식"
      ],
      "metadata": {
        "id": "3Z_Y2UO3PvYZ"
      }
    },
    {
      "cell_type": "code",
      "source": [
        "sc = spark.sparkContext\n",
        "dataRDD = sc.parallelize([('Brooke', 20), ('Denny', 31), ('Jules', 30), ('TD', 35), ('Brooke', 25)])\n",
        "print(dataRDD)\n",
        "print(type(dataRDD))"
      ],
      "metadata": {
        "colab": {
          "base_uri": "https://localhost:8080/"
        },
        "id": "7nku9HFwPuvA",
        "outputId": "0e6c5269-0228-4a18-9e56-85935e9bc190"
      },
      "execution_count": 25,
      "outputs": [
        {
          "output_type": "stream",
          "name": "stdout",
          "text": [
            "ParallelCollectionRDD[10] at readRDDFromFile at PythonRDD.scala:274\n",
            "<class 'pyspark.rdd.RDD'>\n"
          ]
        }
      ]
    },
    {
      "cell_type": "markdown",
      "source": [
        "- 집계와 평균 : 문법이 난해함\n",
        "- RDD는 쓰면 안되겠다!"
      ],
      "metadata": {
        "id": "Fz_wlv4McRBO"
      }
    },
    {
      "cell_type": "code",
      "source": [
        "agesRDD = (dataRDD\n",
        "           .map(lambda x:(x[0], (x[1], 1)))\n",
        "           .reduceByKey(lambda x, y:(x[0] + y[0], x[1] + y[1]))\n",
        "           .map(lambda x: (x[0], x[1][0]/x[1][1]))\n",
        "           )\n",
        "agesRDD"
      ],
      "metadata": {
        "colab": {
          "base_uri": "https://localhost:8080/"
        },
        "id": "ZaWuAvxhckJI",
        "outputId": "10178566-123e-46d0-c3c9-49a3eeb980e6"
      },
      "execution_count": 27,
      "outputs": [
        {
          "output_type": "execute_result",
          "data": {
            "text/plain": [
              "PythonRDD[15] at RDD at PythonRDD.scala:53"
            ]
          },
          "metadata": {},
          "execution_count": 27
        }
      ]
    },
    {
      "cell_type": "markdown",
      "source": [
        "## DataFrame 방식"
      ],
      "metadata": {
        "id": "gQmRR-_1dj8f"
      }
    },
    {
      "cell_type": "code",
      "source": [
        "from pyspark.sql.functions import avg\n",
        "from pyspark.sql import SparkSession\n",
        "# spark = SparkSession.builder.appName('mulCamp28').config('spark.ui.port', '4050').getOrCreate()\n",
        "\n",
        "data_df = spark.createDataFrame([('Brooke', 20), ('Denny', 31), ('Jules', 30), ('TD', 35), ('Brooke', 25)], ['name', 'age'])\n",
        "print(data_df)\n",
        "print(type(data_df))"
      ],
      "metadata": {
        "colab": {
          "base_uri": "https://localhost:8080/"
        },
        "id": "bowsGIdrdlhX",
        "outputId": "f8d879d5-8984-4e3b-90ac-2fcf9fc2c1f5"
      },
      "execution_count": 31,
      "outputs": [
        {
          "output_type": "stream",
          "name": "stdout",
          "text": [
            "DataFrame[name: string, age: bigint]\n",
            "<class 'pyspark.sql.dataframe.DataFrame'>\n"
          ]
        }
      ]
    },
    {
      "cell_type": "code",
      "source": [
        "data_df.show()"
      ],
      "metadata": {
        "colab": {
          "base_uri": "https://localhost:8080/"
        },
        "id": "Gxsmsp86d-jn",
        "outputId": "b08674ea-59cf-45a0-f871-7b863139219f"
      },
      "execution_count": 32,
      "outputs": [
        {
          "output_type": "stream",
          "name": "stdout",
          "text": [
            "+------+---+\n",
            "|  name|age|\n",
            "+------+---+\n",
            "|Brooke| 20|\n",
            "| Denny| 31|\n",
            "| Jules| 30|\n",
            "|    TD| 35|\n",
            "|Brooke| 25|\n",
            "+------+---+\n",
            "\n"
          ]
        }
      ]
    },
    {
      "cell_type": "code",
      "source": [
        "# 이름으로 그룹화 하여 평균 나이 계산\n",
        "avg_df = data_df.groupby('name').agg(avg('age'))\n",
        "avg_df.show()"
      ],
      "metadata": {
        "colab": {
          "base_uri": "https://localhost:8080/"
        },
        "id": "nt8Aryloegas",
        "outputId": "e54f3245-4cfb-4d3f-bbc1-ae59b6176c61"
      },
      "execution_count": 33,
      "outputs": [
        {
          "output_type": "stream",
          "name": "stdout",
          "text": [
            "+------+--------+\n",
            "|  name|avg(age)|\n",
            "+------+--------+\n",
            "|Brooke|    22.5|\n",
            "| Jules|    30.0|\n",
            "|    TD|    35.0|\n",
            "| Denny|    31.0|\n",
            "+------+--------+\n",
            "\n"
          ]
        }
      ]
    },
    {
      "cell_type": "markdown",
      "source": [
        "## 스키마 프로그래밍\n",
        "- 데이터 생성 할 때, SQL 비슷한 형식으로 데이터를 생성"
      ],
      "metadata": {
        "id": "MK4Fcmgae39Y"
      }
    },
    {
      "cell_type": "code",
      "source": [
        "from pyspark.sql import SparkSession\n",
        "from pyspark.sql.types import *  # * : types 클래스 내부의 메서드를 모두 호출하겠다!\n",
        "from pyspark.sql.functions import *\n",
        "# spark = SparkSession.builder.appName('mulCamp28').config('spark.ui.port', '4050').getOrCreate()\n",
        "\n",
        "schema = StructType([\n",
        "   StructField(\"Id\", IntegerType(), False), # SQL에서 테이블 생성\n",
        "   StructField(\"First\", StringType(), False),\n",
        "   StructField(\"Last\", StringType(), False),\n",
        "   StructField(\"Url\", StringType(), False),\n",
        "   StructField(\"Published\", StringType(), False),\n",
        "   StructField(\"Hits\", IntegerType(), False),\n",
        "   StructField(\"Campaigns\", ArrayType(StringType()), False)])\n",
        "\n",
        "# create our data\n",
        "data = [[1, \"Jules\", \"Damji\", \"https://tinyurl.1\", \"1/4/2016\", 4535, [\"twitter\", \"LinkedIn\"]],\n",
        "       [2, \"Brooke\",\"Wenig\",\"https://tinyurl.2\", \"5/5/2018\", 8908, [\"twitter\", \"LinkedIn\"]],\n",
        "       [3, \"Denny\", \"Lee\", \"https://tinyurl.3\",\"6/7/2019\",7659, [\"web\", \"twitter\", \"FB\", \"LinkedIn\"]],\n",
        "       [4, \"Tathagata\", \"Das\",\"https://tinyurl.4\", \"5/12/2018\", 10568, [\"twitter\", \"FB\"]],\n",
        "       [5, \"Matei\",\"Zaharia\", \"https://tinyurl.5\", \"5/14/2014\", 40578, [\"web\", \"twitter\", \"FB\", \"LinkedIn\"]],\n",
        "       [6, \"Reynold\", \"Xin\", \"https://tinyurl.6\", \"3/2/2015\", 25568, [\"twitter\", \"LinkedIn\"]]\n",
        "      ]\n",
        "\n",
        "blogs_df = spark.createDataFrame(data, schema)\n",
        "blogs_df.show()"
      ],
      "metadata": {
        "colab": {
          "base_uri": "https://localhost:8080/"
        },
        "id": "8OX7rSiqfcM7",
        "outputId": "971ba824-491a-463f-b0b4-3c4f24b49fd5"
      },
      "execution_count": 40,
      "outputs": [
        {
          "output_type": "stream",
          "name": "stdout",
          "text": [
            "+---+---------+-------+-----------------+---------+-----+--------------------+\n",
            "| Id|    First|   Last|              Url|Published| Hits|           Campaigns|\n",
            "+---+---------+-------+-----------------+---------+-----+--------------------+\n",
            "|  1|    Jules|  Damji|https://tinyurl.1| 1/4/2016| 4535| [twitter, LinkedIn]|\n",
            "|  2|   Brooke|  Wenig|https://tinyurl.2| 5/5/2018| 8908| [twitter, LinkedIn]|\n",
            "|  3|    Denny|    Lee|https://tinyurl.3| 6/7/2019| 7659|[web, twitter, FB...|\n",
            "|  4|Tathagata|    Das|https://tinyurl.4|5/12/2018|10568|       [twitter, FB]|\n",
            "|  5|    Matei|Zaharia|https://tinyurl.5|5/14/2014|40578|[web, twitter, FB...|\n",
            "|  6|  Reynold|    Xin|https://tinyurl.6| 3/2/2015|25568| [twitter, LinkedIn]|\n",
            "+---+---------+-------+-----------------+---------+-----+--------------------+\n",
            "\n"
          ]
        }
      ]
    },
    {
      "cell_type": "code",
      "source": [
        "blogs_df.printSchema() # blogs_df.info()"
      ],
      "metadata": {
        "colab": {
          "base_uri": "https://localhost:8080/"
        },
        "id": "U_pCDSaigYJk",
        "outputId": "28572691-7d1f-49d1-af22-b9d61a649d3d"
      },
      "execution_count": 41,
      "outputs": [
        {
          "output_type": "stream",
          "name": "stdout",
          "text": [
            "root\n",
            " |-- Id: integer (nullable = false)\n",
            " |-- First: string (nullable = false)\n",
            " |-- Last: string (nullable = false)\n",
            " |-- Url: string (nullable = false)\n",
            " |-- Published: string (nullable = false)\n",
            " |-- Hits: integer (nullable = false)\n",
            " |-- Campaigns: array (nullable = false)\n",
            " |    |-- element: string (containsNull = true)\n",
            "\n"
          ]
        }
      ]
    },
    {
      "cell_type": "markdown",
      "source": [
        "- 계산"
      ],
      "metadata": {
        "id": "zk791MqYEa1M"
      }
    },
    {
      "cell_type": "code",
      "source": [
        "blogs_df.select('Hits').show(2)"
      ],
      "metadata": {
        "colab": {
          "base_uri": "https://localhost:8080/"
        },
        "id": "zilAvnZxFA3f",
        "outputId": "bd17e580-f9b9-425b-cee2-35f70e980e25"
      },
      "execution_count": 46,
      "outputs": [
        {
          "output_type": "stream",
          "name": "stdout",
          "text": [
            "+----+\n",
            "|Hits|\n",
            "+----+\n",
            "|4535|\n",
            "|8908|\n",
            "+----+\n",
            "only showing top 2 rows\n",
            "\n"
          ]
        }
      ]
    },
    {
      "cell_type": "code",
      "source": [
        "blogs_df.select(expr('Hits') * 2).show(2)"
      ],
      "metadata": {
        "colab": {
          "base_uri": "https://localhost:8080/"
        },
        "id": "fxmM-ZQ3FRXu",
        "outputId": "937f2e3e-63f1-4481-c3ca-1c74c0202c53"
      },
      "execution_count": 47,
      "outputs": [
        {
          "output_type": "stream",
          "name": "stdout",
          "text": [
            "+----------+\n",
            "|(Hits * 2)|\n",
            "+----------+\n",
            "|      9070|\n",
            "|     17816|\n",
            "+----------+\n",
            "only showing top 2 rows\n",
            "\n"
          ]
        }
      ]
    },
    {
      "cell_type": "code",
      "source": [
        "blogs_df.select(col('Hits') * 2).show(2)"
      ],
      "metadata": {
        "colab": {
          "base_uri": "https://localhost:8080/"
        },
        "id": "T3RoBZIaFcrx",
        "outputId": "65b4b796-0c88-4adf-9ee0-df297a7a9811"
      },
      "execution_count": 48,
      "outputs": [
        {
          "output_type": "stream",
          "name": "stdout",
          "text": [
            "+----------+\n",
            "|(Hits * 2)|\n",
            "+----------+\n",
            "|      9070|\n",
            "|     17816|\n",
            "+----------+\n",
            "only showing top 2 rows\n",
            "\n"
          ]
        }
      ]
    },
    {
      "cell_type": "code",
      "source": [
        "blogs_df.select(expr('Hits * 2')).show(2)"
      ],
      "metadata": {
        "colab": {
          "base_uri": "https://localhost:8080/"
        },
        "id": "wajqdbSAFg8q",
        "outputId": "b50fc475-56f3-4274-efb5-81780cf3eb9e"
      },
      "execution_count": 49,
      "outputs": [
        {
          "output_type": "stream",
          "name": "stdout",
          "text": [
            "+----------+\n",
            "|(Hits * 2)|\n",
            "+----------+\n",
            "|      9070|\n",
            "|     17816|\n",
            "+----------+\n",
            "only showing top 2 rows\n",
            "\n"
          ]
        }
      ]
    },
    {
      "cell_type": "markdown",
      "source": [
        "- withColumn : 조건절 사용 가능"
      ],
      "metadata": {
        "id": "9ZRB6w2BFtnl"
      }
    },
    {
      "cell_type": "code",
      "source": [
        "blogs_df.withColumn(\"Big Hitters\", (expr(\"Hits > 10000\"))).show(5)"
      ],
      "metadata": {
        "colab": {
          "base_uri": "https://localhost:8080/"
        },
        "id": "CfTynv7hFzca",
        "outputId": "4d82c0f8-e14e-4066-ca0c-f2a5ec63166e"
      },
      "execution_count": 51,
      "outputs": [
        {
          "output_type": "stream",
          "name": "stdout",
          "text": [
            "+---+---------+-------+-----------------+---------+-----+--------------------+-----------+\n",
            "| Id|    First|   Last|              Url|Published| Hits|           Campaigns|Big Hitters|\n",
            "+---+---------+-------+-----------------+---------+-----+--------------------+-----------+\n",
            "|  1|    Jules|  Damji|https://tinyurl.1| 1/4/2016| 4535| [twitter, LinkedIn]|      false|\n",
            "|  2|   Brooke|  Wenig|https://tinyurl.2| 5/5/2018| 8908| [twitter, LinkedIn]|      false|\n",
            "|  3|    Denny|    Lee|https://tinyurl.3| 6/7/2019| 7659|[web, twitter, FB...|      false|\n",
            "|  4|Tathagata|    Das|https://tinyurl.4|5/12/2018|10568|       [twitter, FB]|       true|\n",
            "|  5|    Matei|Zaharia|https://tinyurl.5|5/14/2014|40578|[web, twitter, FB...|       true|\n",
            "+---+---------+-------+-----------------+---------+-----+--------------------+-----------+\n",
            "only showing top 5 rows\n",
            "\n"
          ]
        }
      ]
    },
    {
      "cell_type": "code",
      "source": [
        "print(blogs_df.schema)"
      ],
      "metadata": {
        "colab": {
          "base_uri": "https://localhost:8080/"
        },
        "id": "8UTPp6g1F5-0",
        "outputId": "1d7bc327-0184-48d1-f357-cee96a34d239"
      },
      "execution_count": 53,
      "outputs": [
        {
          "output_type": "stream",
          "name": "stdout",
          "text": [
            "StructType(List(StructField(Id,IntegerType,false),StructField(First,StringType,false),StructField(Last,StringType,false),StructField(Url,StringType,false),StructField(Published,StringType,false),StructField(Hits,IntegerType,false),StructField(Campaigns,ArrayType(StringType,true),false)))\n"
          ]
        }
      ]
    },
    {
      "cell_type": "markdown",
      "source": [
        "## DDL 프로그래밍\n",
        "- SQL과 유사한 형태"
      ],
      "metadata": {
        "id": "9AC8VZKBhORg"
      }
    },
    {
      "cell_type": "code",
      "source": [
        "schema = \"`Id` INT, `First` STRING, `Last` STRING, `Url` STRING, `Published` STRING, `Hits` INT, `Campaings` ARRAY<STRING>\"\n",
        "\n",
        "# create our data\n",
        "data = [[1, \"Jules\", \"Damji\", \"https://tinyurl.1\", \"1/4/2016\", 4535, [\"twitter\", \"LinkedIn\"]],\n",
        "       [2, \"Brooke\",\"Wenig\",\"https://tinyurl.2\", \"5/5/2018\", 8908, [\"twitter\", \"LinkedIn\"]],\n",
        "       [3, \"Denny\", \"Lee\", \"https://tinyurl.3\",\"6/7/2019\",7659, [\"web\", \"twitter\", \"FB\", \"LinkedIn\"]],\n",
        "       [4, \"Tathagata\", \"Das\",\"https://tinyurl.4\", \"5/12/2018\", 10568, [\"twitter\", \"FB\"]],\n",
        "       [5, \"Matei\",\"Zaharia\", \"https://tinyurl.5\", \"5/14/2014\", 40578, [\"web\", \"twitter\", \"FB\", \"LinkedIn\"]],\n",
        "       [6, \"Reynold\", \"Xin\", \"https://tinyurl.6\", \"3/2/2015\", 25568, [\"twitter\", \"LinkedIn\"]]\n",
        "      ]\n",
        "\n",
        "blogs_df = spark.createDataFrame(data, schema)\n",
        "blogs_df.show()"
      ],
      "metadata": {
        "colab": {
          "base_uri": "https://localhost:8080/"
        },
        "id": "PaDcdS0fHH6J",
        "outputId": "b6f2b02d-ff40-4caf-fb1c-996a3575cbc2"
      },
      "execution_count": 54,
      "outputs": [
        {
          "output_type": "stream",
          "name": "stdout",
          "text": [
            "+---+---------+-------+-----------------+---------+-----+--------------------+\n",
            "| Id|    First|   Last|              Url|Published| Hits|           Campaings|\n",
            "+---+---------+-------+-----------------+---------+-----+--------------------+\n",
            "|  1|    Jules|  Damji|https://tinyurl.1| 1/4/2016| 4535| [twitter, LinkedIn]|\n",
            "|  2|   Brooke|  Wenig|https://tinyurl.2| 5/5/2018| 8908| [twitter, LinkedIn]|\n",
            "|  3|    Denny|    Lee|https://tinyurl.3| 6/7/2019| 7659|[web, twitter, FB...|\n",
            "|  4|Tathagata|    Das|https://tinyurl.4|5/12/2018|10568|       [twitter, FB]|\n",
            "|  5|    Matei|Zaharia|https://tinyurl.5|5/14/2014|40578|[web, twitter, FB...|\n",
            "|  6|  Reynold|    Xin|https://tinyurl.6| 3/2/2015|25568| [twitter, LinkedIn]|\n",
            "+---+---------+-------+-----------------+---------+-----+--------------------+\n",
            "\n"
          ]
        }
      ]
    },
    {
      "cell_type": "markdown",
      "source": [
        "- 데이터 생성 후, printSchema()"
      ],
      "metadata": {
        "id": "6YxWv-NlHnmd"
      }
    },
    {
      "cell_type": "code",
      "source": [
        "blogs_df.printSchema()"
      ],
      "metadata": {
        "colab": {
          "base_uri": "https://localhost:8080/"
        },
        "id": "ALZm55n9HrcZ",
        "outputId": "260c77f6-0097-4b2f-a192-4dfa240404cf"
      },
      "execution_count": 55,
      "outputs": [
        {
          "output_type": "stream",
          "name": "stdout",
          "text": [
            "root\n",
            " |-- Id: integer (nullable = true)\n",
            " |-- First: string (nullable = true)\n",
            " |-- Last: string (nullable = true)\n",
            " |-- Url: string (nullable = true)\n",
            " |-- Published: string (nullable = true)\n",
            " |-- Hits: integer (nullable = true)\n",
            " |-- Campaings: array (nullable = true)\n",
            " |    |-- element: string (containsNull = true)\n",
            "\n"
          ]
        }
      ]
    },
    {
      "cell_type": "markdown",
      "source": [
        "## View 테이블 생성"
      ],
      "metadata": {
        "id": "XGed09x-H-Gq"
      }
    },
    {
      "cell_type": "code",
      "source": [
        "blogs_df.createOrReplaceTempView(\"blogs\")"
      ],
      "metadata": {
        "id": "Xa8-6caNIBZK"
      },
      "execution_count": 56,
      "outputs": []
    },
    {
      "cell_type": "markdown",
      "source": [
        "## 두 개의 컬럼 연산"
      ],
      "metadata": {
        "id": "46-h4Ng4Iqiw"
      }
    },
    {
      "cell_type": "code",
      "source": [
        "blogs_df.show(2)"
      ],
      "metadata": {
        "colab": {
          "base_uri": "https://localhost:8080/"
        },
        "id": "JlArcxdUIthY",
        "outputId": "198f4e12-c9c4-4ea1-b42f-f169275ea97e"
      },
      "execution_count": 57,
      "outputs": [
        {
          "output_type": "stream",
          "name": "stdout",
          "text": [
            "+---+------+-----+-----------------+---------+----+-------------------+\n",
            "| Id| First| Last|              Url|Published|Hits|          Campaings|\n",
            "+---+------+-----+-----------------+---------+----+-------------------+\n",
            "|  1| Jules|Damji|https://tinyurl.1| 1/4/2016|4535|[twitter, LinkedIn]|\n",
            "|  2|Brooke|Wenig|https://tinyurl.2| 5/5/2018|8908|[twitter, LinkedIn]|\n",
            "+---+------+-----+-----------------+---------+----+-------------------+\n",
            "only showing top 2 rows\n",
            "\n"
          ]
        }
      ]
    },
    {
      "cell_type": "code",
      "source": [
        "blogs_df.select(col(\"Id\"), col(\"Hits\"), expr(\"Hits\") + expr(\"Id\")).show()"
      ],
      "metadata": {
        "colab": {
          "base_uri": "https://localhost:8080/"
        },
        "id": "0ni5CDZPI5N4",
        "outputId": "b7d2d0f5-ed3b-421d-fe93-d75a83252080"
      },
      "execution_count": 59,
      "outputs": [
        {
          "output_type": "stream",
          "name": "stdout",
          "text": [
            "+---+-----+-----------+\n",
            "| Id| Hits|(Hits + Id)|\n",
            "+---+-----+-----------+\n",
            "|  1| 4535|       4536|\n",
            "|  2| 8908|       8910|\n",
            "|  3| 7659|       7662|\n",
            "|  4|10568|      10572|\n",
            "|  5|40578|      40583|\n",
            "|  6|25568|      25574|\n",
            "+---+-----+-----------+\n",
            "\n"
          ]
        }
      ]
    },
    {
      "cell_type": "code",
      "source": [
        "blogs_df\\\n",
        "  .withColumn(\"AuthorsId\", (concat(expr(\"First\"), expr(\"Last\"), expr(\"Id\"))))\\\n",
        "  .select(expr(\"AuthorsId\"))\\\n",
        "  .show()"
      ],
      "metadata": {
        "colab": {
          "base_uri": "https://localhost:8080/"
        },
        "id": "r8Z8bEZcJfNw",
        "outputId": "3d6290c3-3d1d-4d7a-c563-00a05cd63f43"
      },
      "execution_count": 62,
      "outputs": [
        {
          "output_type": "stream",
          "name": "stdout",
          "text": [
            "+-------------+\n",
            "|    AuthorsId|\n",
            "+-------------+\n",
            "|  JulesDamji1|\n",
            "| BrookeWenig2|\n",
            "|    DennyLee3|\n",
            "|TathagataDas4|\n",
            "|MateiZaharia5|\n",
            "|  ReynoldXin6|\n",
            "+-------------+\n",
            "\n"
          ]
        }
      ]
    },
    {
      "cell_type": "markdown",
      "source": [
        "## 정렬"
      ],
      "metadata": {
        "id": "IrQvI1XLKfzY"
      }
    },
    {
      "cell_type": "code",
      "source": [
        "blogs_df.sort(col(\"Id\").desc()).show()"
      ],
      "metadata": {
        "colab": {
          "base_uri": "https://localhost:8080/"
        },
        "id": "RZ5eZ1HkKrvY",
        "outputId": "f74db269-4d86-4700-f44a-185d751bc7f7"
      },
      "execution_count": 63,
      "outputs": [
        {
          "output_type": "stream",
          "name": "stdout",
          "text": [
            "+---+---------+-------+-----------------+---------+-----+--------------------+\n",
            "| Id|    First|   Last|              Url|Published| Hits|           Campaings|\n",
            "+---+---------+-------+-----------------+---------+-----+--------------------+\n",
            "|  6|  Reynold|    Xin|https://tinyurl.6| 3/2/2015|25568| [twitter, LinkedIn]|\n",
            "|  5|    Matei|Zaharia|https://tinyurl.5|5/14/2014|40578|[web, twitter, FB...|\n",
            "|  4|Tathagata|    Das|https://tinyurl.4|5/12/2018|10568|       [twitter, FB]|\n",
            "|  3|    Denny|    Lee|https://tinyurl.3| 6/7/2019| 7659|[web, twitter, FB...|\n",
            "|  2|   Brooke|  Wenig|https://tinyurl.2| 5/5/2018| 8908| [twitter, LinkedIn]|\n",
            "|  1|    Jules|  Damji|https://tinyurl.1| 1/4/2016| 4535| [twitter, LinkedIn]|\n",
            "+---+---------+-------+-----------------+---------+-----+--------------------+\n",
            "\n"
          ]
        }
      ]
    },
    {
      "cell_type": "code",
      "source": [
        "blogs_df.sort(col(\"Id\").asc()).show()"
      ],
      "metadata": {
        "colab": {
          "base_uri": "https://localhost:8080/"
        },
        "id": "DHzNn8T9KzZw",
        "outputId": "36b57178-31e4-4c01-fcdd-773f83455ab7"
      },
      "execution_count": 64,
      "outputs": [
        {
          "output_type": "stream",
          "name": "stdout",
          "text": [
            "+---+---------+-------+-----------------+---------+-----+--------------------+\n",
            "| Id|    First|   Last|              Url|Published| Hits|           Campaings|\n",
            "+---+---------+-------+-----------------+---------+-----+--------------------+\n",
            "|  1|    Jules|  Damji|https://tinyurl.1| 1/4/2016| 4535| [twitter, LinkedIn]|\n",
            "|  2|   Brooke|  Wenig|https://tinyurl.2| 5/5/2018| 8908| [twitter, LinkedIn]|\n",
            "|  3|    Denny|    Lee|https://tinyurl.3| 6/7/2019| 7659|[web, twitter, FB...|\n",
            "|  4|Tathagata|    Das|https://tinyurl.4|5/12/2018|10568|       [twitter, FB]|\n",
            "|  5|    Matei|Zaharia|https://tinyurl.5|5/14/2014|40578|[web, twitter, FB...|\n",
            "|  6|  Reynold|    Xin|https://tinyurl.6| 3/2/2015|25568| [twitter, LinkedIn]|\n",
            "+---+---------+-------+-----------------+---------+-----+--------------------+\n",
            "\n"
          ]
        }
      ]
    },
    {
      "cell_type": "markdown",
      "source": [
        "## Row\n",
        "- 하나의 행은 일반적으로 하나 이상의 컬럼을 갖고 있는 로우(row)객체로 표현됨\n",
        "- 각 컬럼은 동일한 컬럼 타입일 수도 있고, 혹은 다른 타입일수도 있음"
      ],
      "metadata": {
        "id": "izFFqMfJK-f4"
      }
    },
    {
      "cell_type": "code",
      "source": [
        "from pyspark.sql import Row\n",
        "blog_row = Row(6, \"Reynold\", \"Xin\", \"https://tinyurl.6\", 255568, \"3/2/2015\", [\"twitter\", \"LinkedIn\"])\n",
        "blog_row[3]"
      ],
      "metadata": {
        "colab": {
          "base_uri": "https://localhost:8080/",
          "height": 35
        },
        "id": "IEevw45VLGoJ",
        "outputId": "61dd96e6-ffee-4352-85b9-7d2a1719298a"
      },
      "execution_count": 67,
      "outputs": [
        {
          "output_type": "execute_result",
          "data": {
            "text/plain": [
              "'https://tinyurl.6'"
            ],
            "application/vnd.google.colaboratory.intrinsic+json": {
              "type": "string"
            }
          },
          "metadata": {},
          "execution_count": 67
        }
      ]
    },
    {
      "cell_type": "markdown",
      "source": [
        "- Row 객체를 확인해서 데이터 프레임으로 만들어서 사용"
      ],
      "metadata": {
        "id": "A1_jNbCKLjSQ"
      }
    },
    {
      "cell_type": "code",
      "source": [
        "rows = [Row(\"Evan\", \"서울\"), Row(\"Hong\", \"LA\")]\n",
        "authors_df = spark.createDataFrame(rows, [\"name\", \"location\"])\n",
        "authors_df.show()"
      ],
      "metadata": {
        "colab": {
          "base_uri": "https://localhost:8080/"
        },
        "id": "yjM4mE9pLnpB",
        "outputId": "3e1e327e-0342-4f81-876a-7721f8b61e7d"
      },
      "execution_count": 68,
      "outputs": [
        {
          "output_type": "stream",
          "name": "stdout",
          "text": [
            "+----+--------+\n",
            "|name|location|\n",
            "+----+--------+\n",
            "|Evan|    서울|\n",
            "|Hong|      LA|\n",
            "+----+--------+\n",
            "\n"
          ]
        }
      ]
    },
    {
      "cell_type": "markdown",
      "source": [
        "## 외부 데이터 가져오기"
      ],
      "metadata": {
        "id": "mB7GFxrrMV_d"
      }
    },
    {
      "cell_type": "code",
      "source": [
        "from pyspark.sql import SparkSession\n",
        "from pyspark.sql.types import *  # * : types 클래스 내부의 메서드를 모두 호출하겠다!\n",
        "from pyspark.sql.functions import *\n",
        "# spark = SparkSession.builder.appName('mulCamp28').config('spark.ui.port', '4050').getOrCreate()\n",
        "\n",
        "sf_fire_file = \"/content/drive/MyDrive/Colab Notebooks/2023/멀티캠퍼스/spark/chapter03/data/sf-fire-calls.csv\"\n",
        "fire_schema = StructType([StructField('CallNumber', IntegerType(), True),\n",
        "                     StructField('UnitID', StringType(), True),\n",
        "                     StructField('IncidentNumber', IntegerType(), True),\n",
        "                     StructField('CallType', StringType(), True),\n",
        "                     StructField('CallDate', StringType(), True),\n",
        "                     StructField('WatchDate', StringType(), True),\n",
        "                     StructField('CallFinalDisposition', StringType(), True),\n",
        "                     StructField('AvailableDtTm', StringType(), True),\n",
        "                     StructField('Address', StringType(), True),\n",
        "                     StructField('City', StringType(), True),\n",
        "                     StructField('Zipcode', IntegerType(), True),\n",
        "                     StructField('Battalion', StringType(), True),\n",
        "                     StructField('StationArea', StringType(), True),\n",
        "                     StructField('Box', StringType(), True),\n",
        "                     StructField('OriginalPriority', StringType(), True),\n",
        "                     StructField('Priority', StringType(), True),\n",
        "                     StructField('FinalPriority', IntegerType(), True),\n",
        "                     StructField('ALSUnit', BooleanType(), True),\n",
        "                     StructField('CallTypeGroup', StringType(), True),\n",
        "                     StructField('NumAlarms', IntegerType(), True),\n",
        "                     StructField('UnitType', StringType(), True),\n",
        "                     StructField('UnitSequenceInCallDispatch', IntegerType(), True),\n",
        "                     StructField('FirePreventionDistrict', StringType(), True),\n",
        "                     StructField('SupervisorDistrict', StringType(), True),\n",
        "                     StructField('Neighborhood', StringType(), True),\n",
        "                     StructField('Location', StringType(), True),\n",
        "                     StructField('RowID', StringType(), True),\n",
        "                     StructField('Delay', FloatType(), True)])\n"
      ],
      "metadata": {
        "id": "0KuA8sJeMzC9"
      },
      "execution_count": 69,
      "outputs": []
    },
    {
      "cell_type": "code",
      "source": [
        "fireDF = spark.read.csv(sf_fire_file, header = True, schema=fire_schema)\n",
        "fireDF.show(5)"
      ],
      "metadata": {
        "colab": {
          "base_uri": "https://localhost:8080/"
        },
        "id": "zyt3-4O9NWxQ",
        "outputId": "f42cb27e-160f-420b-9e79-af0f7deac073"
      },
      "execution_count": 71,
      "outputs": [
        {
          "output_type": "stream",
          "name": "stdout",
          "text": [
            "+----------+------+--------------+----------------+----------+----------+--------------------+--------------------+--------------------+----+-------+---------+-----------+----+----------------+--------+-------------+-------+-------------+---------+--------+--------------------------+----------------------+------------------+--------------------+--------------------+-------------+---------+\n",
            "|CallNumber|UnitID|IncidentNumber|        CallType|  CallDate| WatchDate|CallFinalDisposition|       AvailableDtTm|             Address|City|Zipcode|Battalion|StationArea| Box|OriginalPriority|Priority|FinalPriority|ALSUnit|CallTypeGroup|NumAlarms|UnitType|UnitSequenceInCallDispatch|FirePreventionDistrict|SupervisorDistrict|        Neighborhood|            Location|        RowID|    Delay|\n",
            "+----------+------+--------------+----------------+----------+----------+--------------------+--------------------+--------------------+----+-------+---------+-----------+----+----------------+--------+-------------+-------+-------------+---------+--------+--------------------------+----------------------+------------------+--------------------+--------------------+-------------+---------+\n",
            "|  20110016|   T13|       2003235|  Structure Fire|01/11/2002|01/10/2002|               Other|01/11/2002 01:51:...|2000 Block of CAL...|  SF|  94109|      B04|         38|3362|               3|       3|            3|  false|         null|        1|   TRUCK|                         2|                     4|                 5|     Pacific Heights|(37.7895840679362...|020110016-T13|     2.95|\n",
            "|  20110022|   M17|       2003241|Medical Incident|01/11/2002|01/10/2002|               Other|01/11/2002 03:01:...|0 Block of SILVER...|  SF|  94124|      B10|         42|6495|               3|       3|            3|   true|         null|        1|   MEDIC|                         1|                    10|                10|Bayview Hunters P...|(37.7337623673897...|020110022-M17|      4.7|\n",
            "|  20110023|   M41|       2003242|Medical Incident|01/11/2002|01/10/2002|               Other|01/11/2002 02:39:...|MARKET ST/MCALLIS...|  SF|  94102|      B03|         01|1455|               3|       3|            3|   true|         null|        1|   MEDIC|                         2|                     3|                 6|          Tenderloin|(37.7811772186856...|020110023-M41|2.4333334|\n",
            "|  20110032|   E11|       2003250|    Vehicle Fire|01/11/2002|01/10/2002|               Other|01/11/2002 04:16:...|APPLETON AV/MISSI...|  SF|  94110|      B06|         32|5626|               3|       3|            3|  false|         null|        1|  ENGINE|                         1|                     6|                 9|      Bernal Heights|(37.7388432849018...|020110032-E11|      1.5|\n",
            "|  20110043|   B04|       2003259|          Alarms|01/11/2002|01/10/2002|               Other|01/11/2002 06:01:...|1400 Block of SUT...|  SF|  94109|      B04|         03|3223|               3|       3|            3|  false|         null|        1|   CHIEF|                         2|                     4|                 2|    Western Addition|(37.7872890372638...|020110043-B04|3.4833333|\n",
            "+----------+------+--------------+----------------+----------+----------+--------------------+--------------------+--------------------+----+-------+---------+-----------+----+----------------+--------+-------------+-------+-------------+---------+--------+--------------------------+----------------------+------------------+--------------------+--------------------+-------------+---------+\n",
            "only showing top 5 rows\n",
            "\n"
          ]
        }
      ]
    },
    {
      "cell_type": "markdown",
      "source": [
        "- 데이터 프레임을 캐시함"
      ],
      "metadata": {
        "id": "ms0BZsF-RuJI"
      }
    },
    {
      "cell_type": "code",
      "source": [
        "fireDF.cache()"
      ],
      "metadata": {
        "colab": {
          "base_uri": "https://localhost:8080/"
        },
        "id": "5dC-x643Rydk",
        "outputId": "947dfc71-7a34-4e1e-9ebb-024bd4b622f3"
      },
      "execution_count": 72,
      "outputs": [
        {
          "output_type": "execute_result",
          "data": {
            "text/plain": [
              "DataFrame[CallNumber: int, UnitID: string, IncidentNumber: int, CallType: string, CallDate: string, WatchDate: string, CallFinalDisposition: string, AvailableDtTm: string, Address: string, City: string, Zipcode: int, Battalion: string, StationArea: string, Box: string, OriginalPriority: string, Priority: string, FinalPriority: int, ALSUnit: boolean, CallTypeGroup: string, NumAlarms: int, UnitType: string, UnitSequenceInCallDispatch: int, FirePreventionDistrict: string, SupervisorDistrict: string, Neighborhood: string, Location: string, RowID: string, Delay: float]"
            ]
          },
          "metadata": {},
          "execution_count": 72
        }
      ]
    },
    {
      "cell_type": "code",
      "source": [
        "fireDF.count()"
      ],
      "metadata": {
        "colab": {
          "base_uri": "https://localhost:8080/"
        },
        "id": "SucldVpgSjZh",
        "outputId": "a93d140e-4b61-4ca2-d15b-62e7bcd5a21d"
      },
      "execution_count": 73,
      "outputs": [
        {
          "output_type": "execute_result",
          "data": {
            "text/plain": [
              "175296"
            ]
          },
          "metadata": {},
          "execution_count": 73
        }
      ]
    },
    {
      "cell_type": "markdown",
      "source": [
        "- 조건에 의한 행 추출 진행"
      ],
      "metadata": {
        "id": "9X_fJz-JS4QD"
      }
    },
    {
      "cell_type": "code",
      "source": [
        "few_fireDF = fireDF\\\n",
        "  .select(\"IncidentNumber\", \"AvailableDtTm\", \"CallType\")\\\n",
        "  .where(col(\"CallType\") != \"Medical Incident\")\n",
        "\n",
        "few_fireDF.show(5, truncate=False)"
      ],
      "metadata": {
        "colab": {
          "base_uri": "https://localhost:8080/"
        },
        "id": "VPAb4rr3S7gk",
        "outputId": "d6a518f4-e983-410e-898e-d7a257740ad7"
      },
      "execution_count": 74,
      "outputs": [
        {
          "output_type": "stream",
          "name": "stdout",
          "text": [
            "+--------------+----------------------+--------------+\n",
            "|IncidentNumber|AvailableDtTm         |CallType      |\n",
            "+--------------+----------------------+--------------+\n",
            "|2003235       |01/11/2002 01:51:44 AM|Structure Fire|\n",
            "|2003250       |01/11/2002 04:16:46 AM|Vehicle Fire  |\n",
            "|2003259       |01/11/2002 06:01:58 AM|Alarms        |\n",
            "|2003279       |01/11/2002 08:03:26 AM|Structure Fire|\n",
            "|2003301       |01/11/2002 09:46:44 AM|Alarms        |\n",
            "+--------------+----------------------+--------------+\n",
            "only showing top 5 rows\n",
            "\n"
          ]
        }
      ]
    },
    {
      "cell_type": "markdown",
      "source": [
        "- 화재 신고로 기록된 CallType 종류가 궁금하다!!"
      ],
      "metadata": {
        "id": "FhHkSiWeUEKP"
      }
    },
    {
      "cell_type": "code",
      "source": [
        "fireDF\\\n",
        "  .select(\"CallType\")\\\n",
        "  .where(col(\"CallType\").isNotNull())\\\n",
        "  .agg(countDistinct(\"CallType\").alias(\"CNT_CallType\"))\\\n",
        "  .show()"
      ],
      "metadata": {
        "colab": {
          "base_uri": "https://localhost:8080/"
        },
        "id": "PGPwedeCUSgK",
        "outputId": "d681fcbd-925d-4303-e091-0e2af2f9396a"
      },
      "execution_count": 76,
      "outputs": [
        {
          "output_type": "stream",
          "name": "stdout",
          "text": [
            "+------------+\n",
            "|CNT_CallType|\n",
            "+------------+\n",
            "|          30|\n",
            "+------------+\n",
            "\n"
          ]
        }
      ]
    },
    {
      "cell_type": "markdown",
      "source": [
        "- NULL이 아닌 신고 타입의 목록 확인"
      ],
      "metadata": {
        "id": "MrlOKUJ3VGQL"
      }
    },
    {
      "cell_type": "code",
      "source": [
        "fireDF\\\n",
        "  .select(\"CallType\")\\\n",
        "  .where(col(\"CallType\").isNotNull())\\\n",
        "  .distinct()\\\n",
        "  .show(10, False)"
      ],
      "metadata": {
        "colab": {
          "base_uri": "https://localhost:8080/"
        },
        "id": "UJ9dup-GVJ8P",
        "outputId": "750eca41-4e10-4e1d-fbbc-0bf3e94b37d0"
      },
      "execution_count": 78,
      "outputs": [
        {
          "output_type": "stream",
          "name": "stdout",
          "text": [
            "+-----------------------------------+\n",
            "|CallType                           |\n",
            "+-----------------------------------+\n",
            "|Elevator / Escalator Rescue        |\n",
            "|Marine Fire                        |\n",
            "|Aircraft Emergency                 |\n",
            "|Confined Space / Structure Collapse|\n",
            "|Administrative                     |\n",
            "|Alarms                             |\n",
            "|Odor (Strange / Unknown)           |\n",
            "|Citizen Assist / Service Call      |\n",
            "|HazMat                             |\n",
            "|Watercraft in Distress             |\n",
            "+-----------------------------------+\n",
            "only showing top 10 rows\n",
            "\n"
          ]
        }
      ]
    },
    {
      "cell_type": "markdown",
      "source": [
        "### 컬럼의 이름 변경 및 추가 삭제\n",
        "- 컬럼 이름 지정\n",
        "  + withColumnRenamed() 함수"
      ],
      "metadata": {
        "id": "EpbH0UXCXuVp"
      }
    },
    {
      "cell_type": "code",
      "source": [
        "fireDF.printSchema()"
      ],
      "metadata": {
        "colab": {
          "base_uri": "https://localhost:8080/"
        },
        "id": "Dy4K-qRNYOWS",
        "outputId": "262f2a34-36e4-42d9-bf75-dacb67830747"
      },
      "execution_count": 79,
      "outputs": [
        {
          "output_type": "stream",
          "name": "stdout",
          "text": [
            "root\n",
            " |-- CallNumber: integer (nullable = true)\n",
            " |-- UnitID: string (nullable = true)\n",
            " |-- IncidentNumber: integer (nullable = true)\n",
            " |-- CallType: string (nullable = true)\n",
            " |-- CallDate: string (nullable = true)\n",
            " |-- WatchDate: string (nullable = true)\n",
            " |-- CallFinalDisposition: string (nullable = true)\n",
            " |-- AvailableDtTm: string (nullable = true)\n",
            " |-- Address: string (nullable = true)\n",
            " |-- City: string (nullable = true)\n",
            " |-- Zipcode: integer (nullable = true)\n",
            " |-- Battalion: string (nullable = true)\n",
            " |-- StationArea: string (nullable = true)\n",
            " |-- Box: string (nullable = true)\n",
            " |-- OriginalPriority: string (nullable = true)\n",
            " |-- Priority: string (nullable = true)\n",
            " |-- FinalPriority: integer (nullable = true)\n",
            " |-- ALSUnit: boolean (nullable = true)\n",
            " |-- CallTypeGroup: string (nullable = true)\n",
            " |-- NumAlarms: integer (nullable = true)\n",
            " |-- UnitType: string (nullable = true)\n",
            " |-- UnitSequenceInCallDispatch: integer (nullable = true)\n",
            " |-- FirePreventionDistrict: string (nullable = true)\n",
            " |-- SupervisorDistrict: string (nullable = true)\n",
            " |-- Neighborhood: string (nullable = true)\n",
            " |-- Location: string (nullable = true)\n",
            " |-- RowID: string (nullable = true)\n",
            " |-- Delay: float (nullable = true)\n",
            "\n"
          ]
        }
      ]
    },
    {
      "cell_type": "code",
      "source": [
        "new_fire_df = fireDF.withColumnRenamed(\"Delay\", \"ResponseDelayedinMins\") # ResponseDelayedinMins : 새로운 컬럼명\n",
        "new_fire_df.select(\"ResponseDelayedinMins\").where(col(\"ResponseDelayedinMins\") > 10).show(5, False)"
      ],
      "metadata": {
        "colab": {
          "base_uri": "https://localhost:8080/"
        },
        "id": "4d0UW2xtX26_",
        "outputId": "25afefa2-3ff3-4e0e-c488-f4becfd3952e"
      },
      "execution_count": 81,
      "outputs": [
        {
          "output_type": "stream",
          "name": "stdout",
          "text": [
            "+---------------------+\n",
            "|ResponseDelayedinMins|\n",
            "+---------------------+\n",
            "|11.916667            |\n",
            "|95.28333             |\n",
            "|13.55                |\n",
            "|13.583333            |\n",
            "|13.4                 |\n",
            "+---------------------+\n",
            "only showing top 5 rows\n",
            "\n"
          ]
        }
      ]
    },
    {
      "cell_type": "markdown",
      "source": [
        "## 날짜 데이터 타입 변환\n",
        "- 문자열에서 TimeStamp 타입으로 변환"
      ],
      "metadata": {
        "id": "NGCHSjpeY1l0"
      }
    },
    {
      "cell_type": "code",
      "source": [
        "new_fire_df.printSchema()"
      ],
      "metadata": {
        "colab": {
          "base_uri": "https://localhost:8080/"
        },
        "id": "ooBbwbBgZeYI",
        "outputId": "12c177b0-edfa-42c6-b8be-a94df6d41c8f"
      },
      "execution_count": 83,
      "outputs": [
        {
          "output_type": "stream",
          "name": "stdout",
          "text": [
            "root\n",
            " |-- CallNumber: integer (nullable = true)\n",
            " |-- UnitID: string (nullable = true)\n",
            " |-- IncidentNumber: integer (nullable = true)\n",
            " |-- CallType: string (nullable = true)\n",
            " |-- CallDate: string (nullable = true)\n",
            " |-- WatchDate: string (nullable = true)\n",
            " |-- CallFinalDisposition: string (nullable = true)\n",
            " |-- AvailableDtTm: string (nullable = true)\n",
            " |-- Address: string (nullable = true)\n",
            " |-- City: string (nullable = true)\n",
            " |-- Zipcode: integer (nullable = true)\n",
            " |-- Battalion: string (nullable = true)\n",
            " |-- StationArea: string (nullable = true)\n",
            " |-- Box: string (nullable = true)\n",
            " |-- OriginalPriority: string (nullable = true)\n",
            " |-- Priority: string (nullable = true)\n",
            " |-- FinalPriority: integer (nullable = true)\n",
            " |-- ALSUnit: boolean (nullable = true)\n",
            " |-- CallTypeGroup: string (nullable = true)\n",
            " |-- NumAlarms: integer (nullable = true)\n",
            " |-- UnitType: string (nullable = true)\n",
            " |-- UnitSequenceInCallDispatch: integer (nullable = true)\n",
            " |-- FirePreventionDistrict: string (nullable = true)\n",
            " |-- SupervisorDistrict: string (nullable = true)\n",
            " |-- Neighborhood: string (nullable = true)\n",
            " |-- Location: string (nullable = true)\n",
            " |-- RowID: string (nullable = true)\n",
            " |-- ResponseDelayedinMins: float (nullable = true)\n",
            "\n"
          ]
        }
      ]
    },
    {
      "cell_type": "code",
      "source": [
        "fire_ts_df = (new_fire_df\n",
        "              .withColumn(\"IncidentDate\", to_timestamp(col(\"CallDate\"), \"MM/dd/yyyy\")).drop(\"CallDate\")\n",
        "              .withColumn(\"OnWatchDate\",   to_timestamp(col(\"WatchDate\"), \"MM/dd/yyyy\")).drop(\"WatchDate\")\n",
        "              .withColumn(\"AvailableDtTS\", to_timestamp(col(\"AvailableDtTm\"), \"MM/dd/yyyy hh:mm:ss a\")).drop(\"AvailableDtTm\"))\n",
        "fire_ts_df.show()"
      ],
      "metadata": {
        "colab": {
          "base_uri": "https://localhost:8080/"
        },
        "id": "yIl3qTb_ZInJ",
        "outputId": "478a29c1-5725-49a0-8215-582ae3e8bd76"
      },
      "execution_count": 82,
      "outputs": [
        {
          "output_type": "stream",
          "name": "stdout",
          "text": [
            "+----------+------+--------------+----------------+--------------------+--------------------+----+-------+---------+-----------+----+----------------+--------+-------------+-------+-------------+---------+--------------+--------------------------+----------------------+------------------+--------------------+--------------------+-------------+---------------------+-------------------+-------------------+-------------------+\n",
            "|CallNumber|UnitID|IncidentNumber|        CallType|CallFinalDisposition|             Address|City|Zipcode|Battalion|StationArea| Box|OriginalPriority|Priority|FinalPriority|ALSUnit|CallTypeGroup|NumAlarms|      UnitType|UnitSequenceInCallDispatch|FirePreventionDistrict|SupervisorDistrict|        Neighborhood|            Location|        RowID|ResponseDelayedinMins|       IncidentDate|        OnWatchDate|      AvailableDtTS|\n",
            "+----------+------+--------------+----------------+--------------------+--------------------+----+-------+---------+-----------+----+----------------+--------+-------------+-------+-------------+---------+--------------+--------------------------+----------------------+------------------+--------------------+--------------------+-------------+---------------------+-------------------+-------------------+-------------------+\n",
            "|  20110016|   T13|       2003235|  Structure Fire|               Other|2000 Block of CAL...|  SF|  94109|      B04|         38|3362|               3|       3|            3|  false|         null|        1|         TRUCK|                         2|                     4|                 5|     Pacific Heights|(37.7895840679362...|020110016-T13|                 2.95|2002-01-11 00:00:00|2002-01-10 00:00:00|2002-01-11 01:51:44|\n",
            "|  20110022|   M17|       2003241|Medical Incident|               Other|0 Block of SILVER...|  SF|  94124|      B10|         42|6495|               3|       3|            3|   true|         null|        1|         MEDIC|                         1|                    10|                10|Bayview Hunters P...|(37.7337623673897...|020110022-M17|                  4.7|2002-01-11 00:00:00|2002-01-10 00:00:00|2002-01-11 03:01:18|\n",
            "|  20110023|   M41|       2003242|Medical Incident|               Other|MARKET ST/MCALLIS...|  SF|  94102|      B03|         01|1455|               3|       3|            3|   true|         null|        1|         MEDIC|                         2|                     3|                 6|          Tenderloin|(37.7811772186856...|020110023-M41|            2.4333334|2002-01-11 00:00:00|2002-01-10 00:00:00|2002-01-11 02:39:50|\n",
            "|  20110032|   E11|       2003250|    Vehicle Fire|               Other|APPLETON AV/MISSI...|  SF|  94110|      B06|         32|5626|               3|       3|            3|  false|         null|        1|        ENGINE|                         1|                     6|                 9|      Bernal Heights|(37.7388432849018...|020110032-E11|                  1.5|2002-01-11 00:00:00|2002-01-10 00:00:00|2002-01-11 04:16:46|\n",
            "|  20110043|   B04|       2003259|          Alarms|               Other|1400 Block of SUT...|  SF|  94109|      B04|         03|3223|               3|       3|            3|  false|         null|        1|         CHIEF|                         2|                     4|                 2|    Western Addition|(37.7872890372638...|020110043-B04|            3.4833333|2002-01-11 00:00:00|2002-01-10 00:00:00|2002-01-11 06:01:58|\n",
            "|  20110072|   T08|       2003279|  Structure Fire|               Other|  BEALE ST/FOLSOM ST|  SF|  94105|      B03|         35|2122|               3|       3|            3|  false|         null|        1|         TRUCK|                         2|                     3|                 6|Financial Distric...|(37.7886866619654...|020110072-T08|                 1.75|2002-01-11 00:00:00|2002-01-11 00:00:00|2002-01-11 08:03:26|\n",
            "|  20110125|   E33|       2003301|          Alarms|               Other|0 Block of FARALL...|  SF|  94112|      B09|         33|8324|               3|       3|            3|  false|         null|        1|        ENGINE|                         2|                     9|                11|Oceanview/Merced/...|(37.7140353531157...|020110125-E33|            2.7166667|2002-01-11 00:00:00|2002-01-11 00:00:00|2002-01-11 09:46:44|\n",
            "|  20110130|   E36|       2003304|          Alarms|               Other|600 Block of POLK ST|  SF|  94102|      B02|         03|3114|               3|       3|            3|  false|         null|        1|        ENGINE|                         1|                     2|                 6|          Tenderloin|(37.7826266328595...|020110130-E36|            1.7833333|2002-01-11 00:00:00|2002-01-11 00:00:00|2002-01-11 09:58:53|\n",
            "|  20110197|   E05|       2003343|Medical Incident|               Other|1500 Block of WEB...|  SF|  94115|      B04|         05|3513|               3|       3|            3|  false|         null|        1|        ENGINE|                         1|                     4|                 5|           Japantown|(37.784958590666,...|020110197-E05|            1.5166667|2002-01-11 00:00:00|2002-01-11 00:00:00|2002-01-11 12:06:57|\n",
            "|  20110215|   E06|       2003348|Medical Incident|               Other|DIAMOND ST/MARKET ST|  SF|  94114|      B05|         06|5415|               3|       3|            3|  false|         null|        1|        ENGINE|                         1|                     5|                 8| Castro/Upper Market|(37.7618954753708...|020110215-E06|            2.7666667|2002-01-11 00:00:00|2002-01-11 00:00:00|2002-01-11 13:08:40|\n",
            "|  20110274|   M07|       2003381|Medical Incident|               Other|2700 Block of MIS...|  SF|  94110|      B06|         11|5525|               1|       1|            2|   true|         null|        1|         MEDIC|                         1|                     6|                 9|             Mission|(37.7530339738059...|020110274-M07|            2.1833334|2002-01-11 00:00:00|2002-01-11 00:00:00|2002-01-11 15:31:02|\n",
            "|  20110275|   T15|       2003382|  Structure Fire|               Other|BRUNSWICK ST/GUTT...|  SF|  94112|      B09|         43|6218|               3|       3|            3|  false|         null|        1|         TRUCK|                         1|                     9|                11|           Excelsior|(37.7105545807996...|020110275-T15|                  2.5|2002-01-11 00:00:00|2002-01-11 00:00:00|2002-01-11 14:59:04|\n",
            "|  20110304|   E03|       2003399|Medical Incident|               Other|1000 Block of SUT...|  SF|  94109|      B04|         03|1557|               3|       3|            3|  false|         null|        1|        ENGINE|                         1|                     4|                 3|            Nob Hill|(37.7881263034393...|020110304-E03|            2.4166667|2002-01-11 00:00:00|2002-01-11 00:00:00|2002-01-11 16:22:49|\n",
            "|  20110308|   E14|       2003403|Medical Incident|               Other|100 Block of 21ST...|  SF|  94121|      B07|         14|7173|               3|       3|            3|  false|         null|        1|        ENGINE|                         1|                     7|                 1|      Outer Richmond|(37.7850084431077...|020110308-E14|                 4.95|2002-01-11 00:00:00|2002-01-11 00:00:00|2002-01-11 16:18:33|\n",
            "|  20110313|   B10|       2003408|  Structure Fire|               Other|700 Block of CAPP ST|  SF|  94110|      B06|         07|5472|               3|       3|            3|  false|         null|        1|         CHIEF|                         6|                     6|                 9|             Mission|(37.7547064357942...|020110313-B10|            1.4166666|2002-01-11 00:00:00|2002-01-11 00:00:00|2002-01-11 16:09:08|\n",
            "|  20110313|    D3|       2003408|  Structure Fire|               Other|700 Block of CAPP ST|  SF|  94110|      B06|         07|5472|               3|       3|            3|  false|         null|        1|         CHIEF|                         4|                     6|                 9|             Mission|(37.7547064357942...| 020110313-D3|            2.5333333|2002-01-11 00:00:00|2002-01-11 00:00:00|2002-01-11 16:09:08|\n",
            "|  20110313|   E32|       2003408|  Structure Fire|               Other|700 Block of CAPP ST|  SF|  94110|      B06|         07|5472|               3|       3|            3|   true|         null|        1|        ENGINE|                         8|                     6|                 9|             Mission|(37.7547064357942...|020110313-E32|            1.8833333|2002-01-11 00:00:00|2002-01-11 00:00:00|2002-01-11 16:09:08|\n",
            "|  20110315|   RC2|       2003409|Medical Incident|               Other|200 Block of LAGU...|  SF|  94116|      B08|         20|8635|               3|       3|            3|   true|         null|        1|RESCUE CAPTAIN|                         2|                     8|                 7|  West of Twin Peaks|(37.7501117393668...|020110315-RC2|                 5.35|2002-01-11 00:00:00|2002-01-11 00:00:00|2002-01-11 16:34:23|\n",
            "|  20110330|   E14|       2003417|Medical Incident|               Other|BALBOA ST/PARK PR...|  SF|  94118|      B07|         31|7145|               3|       3|            3|  false|         null|        1|        ENGINE|                         1|                     7|                 1|      Inner Richmond|(37.7768682293368...|020110330-E14|                  2.0|2002-01-11 00:00:00|2002-01-11 00:00:00|2002-01-11 16:51:31|\n",
            "|  20110330|   M12|       2003417|Medical Incident|               Other|BALBOA ST/PARK PR...|  SF|  94118|      B07|         31|7145|               3|       3|            3|   true|         null|        1|         MEDIC|                         2|                     7|                 1|      Inner Richmond|(37.7768682293368...|020110330-M12|            1.8166667|2002-01-11 00:00:00|2002-01-11 00:00:00|2002-01-11 16:51:12|\n",
            "+----------+------+--------------+----------------+--------------------+--------------------+----+-------+---------+-----------+----+----------------+--------+-------------+-------+-------------+---------+--------------+--------------------------+----------------------+------------------+--------------------+--------------------+-------------+---------------------+-------------------+-------------------+-------------------+\n",
            "only showing top 20 rows\n",
            "\n"
          ]
        }
      ]
    },
    {
      "cell_type": "code",
      "source": [
        "# fire_ts_df.printSchema()\n",
        "print(type(fire_ts_df.columns))"
      ],
      "metadata": {
        "colab": {
          "base_uri": "https://localhost:8080/"
        },
        "id": "N9xi4Vkqag0n",
        "outputId": "6aef2fc3-a521-4acd-a60f-25b063367792"
      },
      "execution_count": 89,
      "outputs": [
        {
          "output_type": "stream",
          "name": "stdout",
          "text": [
            "<class 'list'>\n"
          ]
        }
      ]
    },
    {
      "cell_type": "markdown",
      "source": [
        "- 문제 SF zip codes 출력, 94102 or 94103"
      ],
      "metadata": {
        "id": "jlOl0r9LfaXD"
      }
    },
    {
      "cell_type": "code",
      "source": [
        "fire_ts_df\\\n",
        "  .select(\"Neighborhood\", \"Zipcode\")\\\n",
        "  .where((col(\"Zipcode\") == 94102) | (col(\"Zipcode\") == 94103))\\\n",
        "  .distinct()\\\n",
        "  .show(10, truncate=False)"
      ],
      "metadata": {
        "colab": {
          "base_uri": "https://localhost:8080/"
        },
        "id": "klPYIaJxfj0o",
        "outputId": "0eb4b8a6-6cbd-4661-b52c-978bb8890801"
      },
      "execution_count": 91,
      "outputs": [
        {
          "output_type": "stream",
          "name": "stdout",
          "text": [
            "+------------------------------+-------+\n",
            "|Neighborhood                  |Zipcode|\n",
            "+------------------------------+-------+\n",
            "|Potrero Hill                  |94103  |\n",
            "|Western Addition              |94102  |\n",
            "|Tenderloin                    |94102  |\n",
            "|Nob Hill                      |94102  |\n",
            "|Castro/Upper Market           |94103  |\n",
            "|South of Market               |94102  |\n",
            "|South of Market               |94103  |\n",
            "|Hayes Valley                  |94103  |\n",
            "|Financial District/South Beach|94102  |\n",
            "|Mission Bay                   |94103  |\n",
            "+------------------------------+-------+\n",
            "only showing top 10 rows\n",
            "\n"
          ]
        }
      ]
    },
    {
      "cell_type": "markdown",
      "source": [
        "- SF 2018년도 가장 응답시간이 길었던 것 확인\n",
        "- filter()"
      ],
      "metadata": {
        "id": "dGVlk8gigZj2"
      }
    },
    {
      "cell_type": "code",
      "source": [
        "fire_ts_df\\\n",
        "  .select(\"Neighborhood\", \"ResponseDelayedinMins\")\\\n",
        "  .filter(year(\"IncidentDate\") == 2018)\\\n",
        "  .orderBy(\"ResponseDelayedinMins\", ascending=False)\\\n",
        "  .show()"
      ],
      "metadata": {
        "colab": {
          "base_uri": "https://localhost:8080/"
        },
        "id": "emeoH5LlgmUH",
        "outputId": "a87461ae-7a2b-4898-94d4-20dacdc32869"
      },
      "execution_count": 93,
      "outputs": [
        {
          "output_type": "stream",
          "name": "stdout",
          "text": [
            "+--------------------+---------------------+\n",
            "|        Neighborhood|ResponseDelayedinMins|\n",
            "+--------------------+---------------------+\n",
            "|           Chinatown|            491.26666|\n",
            "|Financial Distric...|            406.63333|\n",
            "|          Tenderloin|            340.48334|\n",
            "|      Haight Ashbury|            175.86667|\n",
            "|Bayview Hunters P...|                155.8|\n",
            "|Financial Distric...|            135.51666|\n",
            "|     Pacific Heights|            129.01666|\n",
            "|        Potrero Hill|                109.8|\n",
            "|        Inner Sunset|            106.13333|\n",
            "|     South of Market|             94.71667|\n",
            "|Bayview Hunters P...|            92.816666|\n",
            "|     South of Market|            91.666664|\n",
            "|      Inner Richmond|            90.433334|\n",
            "|           Excelsior|             83.76667|\n",
            "|     South of Market|                 76.9|\n",
            "|          Tenderloin|            76.566666|\n",
            "| Castro/Upper Market|             74.13333|\n",
            "|    Western Addition|            67.916664|\n",
            "|            Nob Hill|                67.45|\n",
            "|     South of Market|            64.683334|\n",
            "+--------------------+---------------------+\n",
            "only showing top 20 rows\n",
            "\n"
          ]
        }
      ]
    },
    {
      "cell_type": "markdown",
      "source": [
        "## 데이터 저장 및 불러오기\n",
        "- 시험 문제에 나옴\n",
        "- 교재 98p"
      ],
      "metadata": {
        "id": "ikScPp8UhVop"
      }
    },
    {
      "cell_type": "code",
      "source": [
        "DATA_PATH = \"/content/drive/MyDrive/Colab Notebooks/2023/멀티캠퍼스/spark/chapter03/data/\" # 역슬래쉬 확인\n",
        "\n",
        "# 데이터 저장\n",
        "fire_ts_df.write.format(\"parquet\").mode(\"overwrite\").save(DATA_PATH + \"parquet231024/\")"
      ],
      "metadata": {
        "id": "Sb5gpaIUhdHu"
      },
      "execution_count": 94,
      "outputs": []
    },
    {
      "cell_type": "markdown",
      "source": [
        "- parquet 파일 불러오기"
      ],
      "metadata": {
        "id": "4Px-Xs3GiUr3"
      }
    },
    {
      "cell_type": "code",
      "source": [
        "new_df = spark.read.format(\"parquet\").load(DATA_PATH + \"parquet231024/\")\n",
        "new_df.show()"
      ],
      "metadata": {
        "colab": {
          "base_uri": "https://localhost:8080/"
        },
        "id": "GmQ0c52niXUR",
        "outputId": "98ef06fe-1f1b-4295-9025-c8d3427559f6"
      },
      "execution_count": 95,
      "outputs": [
        {
          "output_type": "stream",
          "name": "stdout",
          "text": [
            "+----------+------+--------------+----------------+--------------------+--------------------+----+-------+---------+-----------+----+----------------+--------+-------------+-------+-------------+---------+--------------+--------------------------+----------------------+------------------+--------------------+--------------------+-------------+---------------------+-------------------+-------------------+-------------------+\n",
            "|CallNumber|UnitID|IncidentNumber|        CallType|CallFinalDisposition|             Address|City|Zipcode|Battalion|StationArea| Box|OriginalPriority|Priority|FinalPriority|ALSUnit|CallTypeGroup|NumAlarms|      UnitType|UnitSequenceInCallDispatch|FirePreventionDistrict|SupervisorDistrict|        Neighborhood|            Location|        RowID|ResponseDelayedinMins|       IncidentDate|        OnWatchDate|      AvailableDtTS|\n",
            "+----------+------+--------------+----------------+--------------------+--------------------+----+-------+---------+-----------+----+----------------+--------+-------------+-------+-------------+---------+--------------+--------------------------+----------------------+------------------+--------------------+--------------------+-------------+---------------------+-------------------+-------------------+-------------------+\n",
            "|  20110016|   T13|       2003235|  Structure Fire|               Other|2000 Block of CAL...|  SF|  94109|      B04|         38|3362|               3|       3|            3|  false|         null|        1|         TRUCK|                         2|                     4|                 5|     Pacific Heights|(37.7895840679362...|020110016-T13|                 2.95|2002-01-11 00:00:00|2002-01-10 00:00:00|2002-01-11 01:51:44|\n",
            "|  20110022|   M17|       2003241|Medical Incident|               Other|0 Block of SILVER...|  SF|  94124|      B10|         42|6495|               3|       3|            3|   true|         null|        1|         MEDIC|                         1|                    10|                10|Bayview Hunters P...|(37.7337623673897...|020110022-M17|                  4.7|2002-01-11 00:00:00|2002-01-10 00:00:00|2002-01-11 03:01:18|\n",
            "|  20110023|   M41|       2003242|Medical Incident|               Other|MARKET ST/MCALLIS...|  SF|  94102|      B03|         01|1455|               3|       3|            3|   true|         null|        1|         MEDIC|                         2|                     3|                 6|          Tenderloin|(37.7811772186856...|020110023-M41|            2.4333334|2002-01-11 00:00:00|2002-01-10 00:00:00|2002-01-11 02:39:50|\n",
            "|  20110032|   E11|       2003250|    Vehicle Fire|               Other|APPLETON AV/MISSI...|  SF|  94110|      B06|         32|5626|               3|       3|            3|  false|         null|        1|        ENGINE|                         1|                     6|                 9|      Bernal Heights|(37.7388432849018...|020110032-E11|                  1.5|2002-01-11 00:00:00|2002-01-10 00:00:00|2002-01-11 04:16:46|\n",
            "|  20110043|   B04|       2003259|          Alarms|               Other|1400 Block of SUT...|  SF|  94109|      B04|         03|3223|               3|       3|            3|  false|         null|        1|         CHIEF|                         2|                     4|                 2|    Western Addition|(37.7872890372638...|020110043-B04|            3.4833333|2002-01-11 00:00:00|2002-01-10 00:00:00|2002-01-11 06:01:58|\n",
            "|  20110072|   T08|       2003279|  Structure Fire|               Other|  BEALE ST/FOLSOM ST|  SF|  94105|      B03|         35|2122|               3|       3|            3|  false|         null|        1|         TRUCK|                         2|                     3|                 6|Financial Distric...|(37.7886866619654...|020110072-T08|                 1.75|2002-01-11 00:00:00|2002-01-11 00:00:00|2002-01-11 08:03:26|\n",
            "|  20110125|   E33|       2003301|          Alarms|               Other|0 Block of FARALL...|  SF|  94112|      B09|         33|8324|               3|       3|            3|  false|         null|        1|        ENGINE|                         2|                     9|                11|Oceanview/Merced/...|(37.7140353531157...|020110125-E33|            2.7166667|2002-01-11 00:00:00|2002-01-11 00:00:00|2002-01-11 09:46:44|\n",
            "|  20110130|   E36|       2003304|          Alarms|               Other|600 Block of POLK ST|  SF|  94102|      B02|         03|3114|               3|       3|            3|  false|         null|        1|        ENGINE|                         1|                     2|                 6|          Tenderloin|(37.7826266328595...|020110130-E36|            1.7833333|2002-01-11 00:00:00|2002-01-11 00:00:00|2002-01-11 09:58:53|\n",
            "|  20110197|   E05|       2003343|Medical Incident|               Other|1500 Block of WEB...|  SF|  94115|      B04|         05|3513|               3|       3|            3|  false|         null|        1|        ENGINE|                         1|                     4|                 5|           Japantown|(37.784958590666,...|020110197-E05|            1.5166667|2002-01-11 00:00:00|2002-01-11 00:00:00|2002-01-11 12:06:57|\n",
            "|  20110215|   E06|       2003348|Medical Incident|               Other|DIAMOND ST/MARKET ST|  SF|  94114|      B05|         06|5415|               3|       3|            3|  false|         null|        1|        ENGINE|                         1|                     5|                 8| Castro/Upper Market|(37.7618954753708...|020110215-E06|            2.7666667|2002-01-11 00:00:00|2002-01-11 00:00:00|2002-01-11 13:08:40|\n",
            "|  20110274|   M07|       2003381|Medical Incident|               Other|2700 Block of MIS...|  SF|  94110|      B06|         11|5525|               1|       1|            2|   true|         null|        1|         MEDIC|                         1|                     6|                 9|             Mission|(37.7530339738059...|020110274-M07|            2.1833334|2002-01-11 00:00:00|2002-01-11 00:00:00|2002-01-11 15:31:02|\n",
            "|  20110275|   T15|       2003382|  Structure Fire|               Other|BRUNSWICK ST/GUTT...|  SF|  94112|      B09|         43|6218|               3|       3|            3|  false|         null|        1|         TRUCK|                         1|                     9|                11|           Excelsior|(37.7105545807996...|020110275-T15|                  2.5|2002-01-11 00:00:00|2002-01-11 00:00:00|2002-01-11 14:59:04|\n",
            "|  20110304|   E03|       2003399|Medical Incident|               Other|1000 Block of SUT...|  SF|  94109|      B04|         03|1557|               3|       3|            3|  false|         null|        1|        ENGINE|                         1|                     4|                 3|            Nob Hill|(37.7881263034393...|020110304-E03|            2.4166667|2002-01-11 00:00:00|2002-01-11 00:00:00|2002-01-11 16:22:49|\n",
            "|  20110308|   E14|       2003403|Medical Incident|               Other|100 Block of 21ST...|  SF|  94121|      B07|         14|7173|               3|       3|            3|  false|         null|        1|        ENGINE|                         1|                     7|                 1|      Outer Richmond|(37.7850084431077...|020110308-E14|                 4.95|2002-01-11 00:00:00|2002-01-11 00:00:00|2002-01-11 16:18:33|\n",
            "|  20110313|   B10|       2003408|  Structure Fire|               Other|700 Block of CAPP ST|  SF|  94110|      B06|         07|5472|               3|       3|            3|  false|         null|        1|         CHIEF|                         6|                     6|                 9|             Mission|(37.7547064357942...|020110313-B10|            1.4166666|2002-01-11 00:00:00|2002-01-11 00:00:00|2002-01-11 16:09:08|\n",
            "|  20110313|    D3|       2003408|  Structure Fire|               Other|700 Block of CAPP ST|  SF|  94110|      B06|         07|5472|               3|       3|            3|  false|         null|        1|         CHIEF|                         4|                     6|                 9|             Mission|(37.7547064357942...| 020110313-D3|            2.5333333|2002-01-11 00:00:00|2002-01-11 00:00:00|2002-01-11 16:09:08|\n",
            "|  20110313|   E32|       2003408|  Structure Fire|               Other|700 Block of CAPP ST|  SF|  94110|      B06|         07|5472|               3|       3|            3|   true|         null|        1|        ENGINE|                         8|                     6|                 9|             Mission|(37.7547064357942...|020110313-E32|            1.8833333|2002-01-11 00:00:00|2002-01-11 00:00:00|2002-01-11 16:09:08|\n",
            "|  20110315|   RC2|       2003409|Medical Incident|               Other|200 Block of LAGU...|  SF|  94116|      B08|         20|8635|               3|       3|            3|   true|         null|        1|RESCUE CAPTAIN|                         2|                     8|                 7|  West of Twin Peaks|(37.7501117393668...|020110315-RC2|                 5.35|2002-01-11 00:00:00|2002-01-11 00:00:00|2002-01-11 16:34:23|\n",
            "|  20110330|   E14|       2003417|Medical Incident|               Other|BALBOA ST/PARK PR...|  SF|  94118|      B07|         31|7145|               3|       3|            3|  false|         null|        1|        ENGINE|                         1|                     7|                 1|      Inner Richmond|(37.7768682293368...|020110330-E14|                  2.0|2002-01-11 00:00:00|2002-01-11 00:00:00|2002-01-11 16:51:31|\n",
            "|  20110330|   M12|       2003417|Medical Incident|               Other|BALBOA ST/PARK PR...|  SF|  94118|      B07|         31|7145|               3|       3|            3|   true|         null|        1|         MEDIC|                         2|                     7|                 1|      Inner Richmond|(37.7768682293368...|020110330-M12|            1.8166667|2002-01-11 00:00:00|2002-01-11 00:00:00|2002-01-11 16:51:12|\n",
            "+----------+------+--------------+----------------+--------------------+--------------------+----+-------+---------+-----------+----+----------------+--------+-------------+-------+-------------+---------+--------------+--------------------------+----------------------+------------------+--------------------+--------------------+-------------+---------------------+-------------------+-------------------+-------------------+\n",
            "only showing top 20 rows\n",
            "\n"
          ]
        }
      ]
    },
    {
      "cell_type": "markdown",
      "source": [
        "## Spark 종료"
      ],
      "metadata": {
        "id": "t1YeYdBxAiQ-"
      }
    },
    {
      "cell_type": "code",
      "source": [
        "# spark.stop()"
      ],
      "metadata": {
        "id": "DamSP18CAu_w"
      },
      "execution_count": null,
      "outputs": []
    },
    {
      "cell_type": "code",
      "source": [],
      "metadata": {
        "id": "jhb3BJxjAhHJ"
      },
      "execution_count": null,
      "outputs": []
    }
  ]
}